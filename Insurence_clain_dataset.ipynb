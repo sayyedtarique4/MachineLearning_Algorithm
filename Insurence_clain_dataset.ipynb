{
 "cells": [
  {
   "cell_type": "code",
   "execution_count": 1,
   "id": "0bd8c2eb-8449-4a1c-a110-39ee1ec64d3d",
   "metadata": {},
   "outputs": [],
   "source": [
    "import os,sys\n",
    "import numpy as np\n",
    "import pandas as pd\n",
    "import matplotlib.pyplot as plt\n",
    "import seaborn as sns\n",
    "%matplotlib inline\n",
    "import warnings \n",
    "warnings.filterwarnings('ignore')\n",
    "from scipy import stats"
   ]
  },
  {
   "cell_type": "code",
   "execution_count": 3,
   "id": "a747f0ea-a0a7-42ae-b375-bea5e76d35ca",
   "metadata": {},
   "outputs": [],
   "source": [
    "df=pd.read_csv(r'C:\\Users\\Admin\\Desktop\\it_VEDANT\\My Learnbay Folder\\My Learnbay Folder\\Stat and ML by Utkarsha sir\\ML_BY_ME\\Datasets\\insurance.csv')"
   ]
  },
  {
   "cell_type": "code",
   "execution_count": 4,
   "id": "d43d9b5a-a063-40ca-bc9f-f01fd09d32a9",
   "metadata": {},
   "outputs": [
    {
     "data": {
      "text/html": [
       "<div>\n",
       "<style scoped>\n",
       "    .dataframe tbody tr th:only-of-type {\n",
       "        vertical-align: middle;\n",
       "    }\n",
       "\n",
       "    .dataframe tbody tr th {\n",
       "        vertical-align: top;\n",
       "    }\n",
       "\n",
       "    .dataframe thead th {\n",
       "        text-align: right;\n",
       "    }\n",
       "</style>\n",
       "<table border=\"1\" class=\"dataframe\">\n",
       "  <thead>\n",
       "    <tr style=\"text-align: right;\">\n",
       "      <th></th>\n",
       "      <th>age</th>\n",
       "      <th>sex</th>\n",
       "      <th>bmi</th>\n",
       "      <th>children</th>\n",
       "      <th>smoker</th>\n",
       "      <th>region</th>\n",
       "      <th>charges</th>\n",
       "      <th>insuranceclaim</th>\n",
       "    </tr>\n",
       "  </thead>\n",
       "  <tbody>\n",
       "    <tr>\n",
       "      <th>0</th>\n",
       "      <td>19</td>\n",
       "      <td>0</td>\n",
       "      <td>27.900</td>\n",
       "      <td>0</td>\n",
       "      <td>1</td>\n",
       "      <td>3</td>\n",
       "      <td>16884.92400</td>\n",
       "      <td>1</td>\n",
       "    </tr>\n",
       "    <tr>\n",
       "      <th>1</th>\n",
       "      <td>18</td>\n",
       "      <td>1</td>\n",
       "      <td>33.770</td>\n",
       "      <td>1</td>\n",
       "      <td>0</td>\n",
       "      <td>2</td>\n",
       "      <td>1725.55230</td>\n",
       "      <td>1</td>\n",
       "    </tr>\n",
       "    <tr>\n",
       "      <th>2</th>\n",
       "      <td>28</td>\n",
       "      <td>1</td>\n",
       "      <td>33.000</td>\n",
       "      <td>3</td>\n",
       "      <td>0</td>\n",
       "      <td>2</td>\n",
       "      <td>4449.46200</td>\n",
       "      <td>0</td>\n",
       "    </tr>\n",
       "    <tr>\n",
       "      <th>3</th>\n",
       "      <td>33</td>\n",
       "      <td>1</td>\n",
       "      <td>22.705</td>\n",
       "      <td>0</td>\n",
       "      <td>0</td>\n",
       "      <td>1</td>\n",
       "      <td>21984.47061</td>\n",
       "      <td>0</td>\n",
       "    </tr>\n",
       "    <tr>\n",
       "      <th>4</th>\n",
       "      <td>32</td>\n",
       "      <td>1</td>\n",
       "      <td>28.880</td>\n",
       "      <td>0</td>\n",
       "      <td>0</td>\n",
       "      <td>1</td>\n",
       "      <td>3866.85520</td>\n",
       "      <td>1</td>\n",
       "    </tr>\n",
       "  </tbody>\n",
       "</table>\n",
       "</div>"
      ],
      "text/plain": [
       "   age  sex     bmi  children  smoker  region      charges  insuranceclaim\n",
       "0   19    0  27.900         0       1       3  16884.92400               1\n",
       "1   18    1  33.770         1       0       2   1725.55230               1\n",
       "2   28    1  33.000         3       0       2   4449.46200               0\n",
       "3   33    1  22.705         0       0       1  21984.47061               0\n",
       "4   32    1  28.880         0       0       1   3866.85520               1"
      ]
     },
     "execution_count": 4,
     "metadata": {},
     "output_type": "execute_result"
    }
   ],
   "source": [
    "df.head()"
   ]
  },
  {
   "cell_type": "code",
   "execution_count": 5,
   "id": "f5f578ae-ed88-42cd-b8d2-b381c1d54e89",
   "metadata": {},
   "outputs": [
    {
     "data": {
      "text/plain": [
       "age               0\n",
       "sex               0\n",
       "bmi               0\n",
       "children          0\n",
       "smoker            0\n",
       "region            0\n",
       "charges           0\n",
       "insuranceclaim    0\n",
       "dtype: int64"
      ]
     },
     "execution_count": 5,
     "metadata": {},
     "output_type": "execute_result"
    }
   ],
   "source": [
    "df.isnull().sum()"
   ]
  },
  {
   "cell_type": "code",
   "execution_count": 6,
   "id": "14d7541c-656e-4e4d-8a71-5eb4399642bb",
   "metadata": {},
   "outputs": [
    {
     "name": "stdout",
     "output_type": "stream",
     "text": [
      "<class 'pandas.core.frame.DataFrame'>\n",
      "RangeIndex: 1338 entries, 0 to 1337\n",
      "Data columns (total 8 columns):\n",
      " #   Column          Non-Null Count  Dtype  \n",
      "---  ------          --------------  -----  \n",
      " 0   age             1338 non-null   int64  \n",
      " 1   sex             1338 non-null   int64  \n",
      " 2   bmi             1338 non-null   float64\n",
      " 3   children        1338 non-null   int64  \n",
      " 4   smoker          1338 non-null   int64  \n",
      " 5   region          1338 non-null   int64  \n",
      " 6   charges         1338 non-null   float64\n",
      " 7   insuranceclaim  1338 non-null   int64  \n",
      "dtypes: float64(2), int64(6)\n",
      "memory usage: 83.8 KB\n"
     ]
    }
   ],
   "source": [
    "df.info()"
   ]
  },
  {
   "cell_type": "markdown",
   "id": "bf53ff1d-c336-4f3d-b3ab-b45d92ba0601",
   "metadata": {},
   "source": [
    "## EDA Do by your own"
   ]
  },
  {
   "cell_type": "code",
   "execution_count": 7,
   "id": "00a0dd1e-85f8-4a7b-98ad-6f66993df8f7",
   "metadata": {},
   "outputs": [
    {
     "data": {
      "text/plain": [
       "<Axes: xlabel='charges'>"
      ]
     },
     "execution_count": 7,
     "metadata": {},
     "output_type": "execute_result"
    },
    {
     "data": {
      "image/png": "[encoded data removed]",
      "text/plain": [
       "<Figure size 640x480 with 1 Axes>"
      ]
     },
     "metadata": {},
     "output_type": "display_data"
    }
   ],
   "source": [
    "sns.boxplot(data=df,x='charges')"
   ]
  },
  {
   "cell_type": "code",
   "execution_count": null,
   "id": "751ed447-6f35-40b8-9dc8-042e7fc960ec",
   "metadata": {},
   "outputs": [],
   "source": [
    "## We will 1stly create base model\n",
    "## if it is not giving good result we will go for scaling"
   ]
  },
  {
   "cell_type": "code",
   "execution_count": 9,
   "id": "9c79ece8-b3d7-47bc-a3f7-7a860801e4e7",
   "metadata": {},
   "outputs": [],
   "source": [
    "## dividing into dep and ind\n",
    "## insuranceclaim : dependent Variable\n",
    "X=df.drop('insuranceclaim',axis=1)\n",
    "y=df['insuranceclaim']"
   ]
  },
  {
   "cell_type": "code",
   "execution_count": 10,
   "id": "8c6d1062-2e13-4867-8246-20b97846dc2f",
   "metadata": {},
   "outputs": [
    {
     "data": {
      "text/html": [
       "<div>\n",
       "<style scoped>\n",
       "    .dataframe tbody tr th:only-of-type {\n",
       "        vertical-align: middle;\n",
       "    }\n",
       "\n",
       "    .dataframe tbody tr th {\n",
       "        vertical-align: top;\n",
       "    }\n",
       "\n",
       "    .dataframe thead th {\n",
       "        text-align: right;\n",
       "    }\n",
       "</style>\n",
       "<table border=\"1\" class=\"dataframe\">\n",
       "  <thead>\n",
       "    <tr style=\"text-align: right;\">\n",
       "      <th></th>\n",
       "      <th>age</th>\n",
       "      <th>sex</th>\n",
       "      <th>bmi</th>\n",
       "      <th>children</th>\n",
       "      <th>smoker</th>\n",
       "      <th>region</th>\n",
       "      <th>charges</th>\n",
       "    </tr>\n",
       "  </thead>\n",
       "  <tbody>\n",
       "    <tr>\n",
       "      <th>0</th>\n",
       "      <td>19</td>\n",
       "      <td>0</td>\n",
       "      <td>27.900</td>\n",
       "      <td>0</td>\n",
       "      <td>1</td>\n",
       "      <td>3</td>\n",
       "      <td>16884.92400</td>\n",
       "    </tr>\n",
       "    <tr>\n",
       "      <th>1</th>\n",
       "      <td>18</td>\n",
       "      <td>1</td>\n",
       "      <td>33.770</td>\n",
       "      <td>1</td>\n",
       "      <td>0</td>\n",
       "      <td>2</td>\n",
       "      <td>1725.55230</td>\n",
       "    </tr>\n",
       "    <tr>\n",
       "      <th>2</th>\n",
       "      <td>28</td>\n",
       "      <td>1</td>\n",
       "      <td>33.000</td>\n",
       "      <td>3</td>\n",
       "      <td>0</td>\n",
       "      <td>2</td>\n",
       "      <td>4449.46200</td>\n",
       "    </tr>\n",
       "    <tr>\n",
       "      <th>3</th>\n",
       "      <td>33</td>\n",
       "      <td>1</td>\n",
       "      <td>22.705</td>\n",
       "      <td>0</td>\n",
       "      <td>0</td>\n",
       "      <td>1</td>\n",
       "      <td>21984.47061</td>\n",
       "    </tr>\n",
       "    <tr>\n",
       "      <th>4</th>\n",
       "      <td>32</td>\n",
       "      <td>1</td>\n",
       "      <td>28.880</td>\n",
       "      <td>0</td>\n",
       "      <td>0</td>\n",
       "      <td>1</td>\n",
       "      <td>3866.85520</td>\n",
       "    </tr>\n",
       "  </tbody>\n",
       "</table>\n",
       "</div>"
      ],
      "text/plain": [
       "   age  sex     bmi  children  smoker  region      charges\n",
       "0   19    0  27.900         0       1       3  16884.92400\n",
       "1   18    1  33.770         1       0       2   1725.55230\n",
       "2   28    1  33.000         3       0       2   4449.46200\n",
       "3   33    1  22.705         0       0       1  21984.47061\n",
       "4   32    1  28.880         0       0       1   3866.85520"
      ]
     },
     "execution_count": 10,
     "metadata": {},
     "output_type": "execute_result"
    }
   ],
   "source": [
    "X.head()"
   ]
  },
  {
   "cell_type": "code",
   "execution_count": 11,
   "id": "dc55db2c-ed3d-4896-8989-8ee70bb430f1",
   "metadata": {},
   "outputs": [
    {
     "data": {
      "text/plain": [
       "0       1\n",
       "1       1\n",
       "2       0\n",
       "3       0\n",
       "4       1\n",
       "       ..\n",
       "1333    0\n",
       "1334    1\n",
       "1335    1\n",
       "1336    0\n",
       "1337    1\n",
       "Name: insuranceclaim, Length: 1338, dtype: int64"
      ]
     },
     "execution_count": 11,
     "metadata": {},
     "output_type": "execute_result"
    }
   ],
   "source": [
    "y"
   ]
  },
  {
   "cell_type": "code",
   "execution_count": 12,
   "id": "56285cc7-6096-4243-adc3-6f3495e45507",
   "metadata": {},
   "outputs": [],
   "source": [
    "### Train_test_split"
   ]
  },
  {
   "cell_type": "code",
   "execution_count": 33,
   "id": "f1a6fa00-d91b-40ca-b169-8b83fa0002de",
   "metadata": {},
   "outputs": [],
   "source": [
    "from sklearn.model_selection import train_test_split\n",
    "x_train,x_test,y_train,y_test=train_test_split(X,y,test_size=0.2,random_state=101)"
   ]
  },
  {
   "cell_type": "code",
   "execution_count": 34,
   "id": "6654fbc1-ab34-468c-8d96-b21b61ea0229",
   "metadata": {},
   "outputs": [],
   "source": [
    "# Model Building"
   ]
  },
  {
   "cell_type": "code",
   "execution_count": 35,
   "id": "3afee88f-b801-493c-afce-0d746035c528",
   "metadata": {},
   "outputs": [],
   "source": [
    "from sklearn.linear_model import LogisticRegression\n",
    "log=LogisticRegression()\n",
    "log.fit(x_train,y_train)\n",
    "y_pred=log.predict(x_test)"
   ]
  },
  {
   "cell_type": "code",
   "execution_count": 36,
   "id": "cb70da83-3073-4604-9c5b-d6882bb9ff19",
   "metadata": {},
   "outputs": [],
   "source": [
    "from sklearn.metrics import confusion_matrix,classification_report,accuracy_score"
   ]
  },
  {
   "cell_type": "code",
   "execution_count": 37,
   "id": "8f3af101-8ec5-4580-ab74-45c41ac3c126",
   "metadata": {},
   "outputs": [
    {
     "data": {
      "text/plain": [
       "array([[ 65,  40],\n",
       "       [ 18, 145]], dtype=int64)"
      ]
     },
     "execution_count": 37,
     "metadata": {},
     "output_type": "execute_result"
    }
   ],
   "source": [
    "confusion_matrix(y_test,y_pred)"
   ]
  },
  {
   "cell_type": "code",
   "execution_count": 38,
   "id": "0f3b9675-b0ed-4bd7-aa64-fa7a532965e5",
   "metadata": {},
   "outputs": [
    {
     "data": {
      "text/plain": [
       "0.7835820895522388"
      ]
     },
     "execution_count": 38,
     "metadata": {},
     "output_type": "execute_result"
    }
   ],
   "source": [
    "accuracy_score(y_test,y_pred)"
   ]
  },
  {
   "cell_type": "code",
   "execution_count": 39,
   "id": "20942a7b-1ab7-4496-864c-8ed5b0ef4c43",
   "metadata": {},
   "outputs": [
    {
     "name": "stdout",
     "output_type": "stream",
     "text": [
      "precision : 0.7837837837837838\n",
      "recall : 0.8895705521472392\n"
     ]
    }
   ],
   "source": [
    "from sklearn.metrics import precision_score,recall_score\n",
    "prec=precision_score(y_test,y_pred)\n",
    "recall=recall_score(y_test,y_pred)\n",
    "print('precision :',prec)\n",
    "print('recall :',recall)\n"
   ]
  },
  {
   "cell_type": "code",
   "execution_count": 40,
   "id": "2c671b47-42bb-4ad2-966c-d5aa2221ef90",
   "metadata": {},
   "outputs": [
    {
     "name": "stdout",
     "output_type": "stream",
     "text": [
      "              precision    recall  f1-score   support\n",
      "\n",
      "           0       0.78      0.62      0.69       105\n",
      "           1       0.78      0.89      0.83       163\n",
      "\n",
      "    accuracy                           0.78       268\n",
      "   macro avg       0.78      0.75      0.76       268\n",
      "weighted avg       0.78      0.78      0.78       268\n",
      "\n"
     ]
    }
   ],
   "source": [
    "from sklearn.metrics import classification_report\n",
    "print(classification_report(y_test,y_pred))"
   ]
  },
  {
   "cell_type": "code",
   "execution_count": 23,
   "id": "7c7556a6-0583-40dd-a90e-f2fda5221af7",
   "metadata": {},
   "outputs": [],
   "source": [
    "from sklearn.metrics import roc_auc_score"
   ]
  },
  {
   "cell_type": "code",
   "execution_count": 24,
   "id": "a081dbca-99a0-40c3-8e31-94dbe28a76b0",
   "metadata": {},
   "outputs": [
    {
     "name": "stdout",
     "output_type": "stream",
     "text": [
      "Area under the curve is  0.7543090855974292\n"
     ]
    }
   ],
   "source": [
    "log_roc_auc_score=roc_auc_score(y_test,y_pred)\n",
    "print('Area under the curve is ',log_roc_auc_score)"
   ]
  },
  {
   "cell_type": "code",
   "execution_count": 48,
   "id": "4e14a644-9a89-4d9c-ae40-17e10a4d8030",
   "metadata": {},
   "outputs": [
    {
     "data": {
      "text/plain": [
       "array([[3.72971928e-01, 6.27028072e-01],\n",
       "       [2.08253542e-01, 7.91746458e-01],\n",
       "       [1.60013680e-01, 8.39986320e-01],\n",
       "       [5.64185372e-03, 9.94358146e-01],\n",
       "       [9.30897596e-01, 6.91024035e-02],\n",
       "       [2.86671766e-01, 7.13328234e-01],\n",
       "       [1.24879819e-01, 8.75120181e-01],\n",
       "       [8.03417814e-01, 1.96582186e-01],\n",
       "       [4.18313212e-01, 5.81686788e-01],\n",
       "       [9.12943575e-01, 8.70564255e-02],\n",
       "       [4.95408851e-01, 5.04591149e-01],\n",
       "       [2.42588934e-01, 7.57411066e-01],\n",
       "       [5.50097131e-01, 4.49902869e-01],\n",
       "       [3.12415521e-02, 9.68758448e-01],\n",
       "       [1.23189742e-01, 8.76810258e-01],\n",
       "       [4.75980190e-02, 9.52401981e-01],\n",
       "       [9.05692939e-01, 9.43070607e-02],\n",
       "       [9.40470219e-01, 5.95297812e-02],\n",
       "       [1.62661039e-01, 8.37338961e-01],\n",
       "       [6.60546571e-02, 9.33945343e-01],\n",
       "       [5.18885850e-02, 9.48111415e-01],\n",
       "       [1.71600867e-01, 8.28399133e-01],\n",
       "       [4.30493973e-01, 5.69506027e-01],\n",
       "       [3.85881181e-01, 6.14118819e-01],\n",
       "       [2.85518043e-01, 7.14481957e-01],\n",
       "       [6.16315892e-02, 9.38368411e-01],\n",
       "       [2.25865154e-01, 7.74134846e-01],\n",
       "       [7.95477659e-03, 9.92045223e-01],\n",
       "       [1.61848838e-02, 9.83815116e-01],\n",
       "       [5.66150497e-01, 4.33849503e-01],\n",
       "       [4.59467118e-01, 5.40532882e-01],\n",
       "       [5.98951729e-01, 4.01048271e-01],\n",
       "       [2.27622080e-01, 7.72377920e-01],\n",
       "       [5.49216606e-01, 4.50783394e-01],\n",
       "       [1.46643966e-01, 8.53356034e-01],\n",
       "       [1.22998882e-01, 8.77001118e-01],\n",
       "       [3.52014526e-01, 6.47985474e-01],\n",
       "       [9.89220303e-01, 1.07796974e-02],\n",
       "       [1.46761470e-01, 8.53238530e-01],\n",
       "       [2.38410745e-01, 7.61589255e-01],\n",
       "       [7.20727997e-02, 9.27927200e-01],\n",
       "       [5.70400580e-01, 4.29599420e-01],\n",
       "       [8.81623482e-01, 1.18376518e-01],\n",
       "       [4.81001779e-01, 5.18998221e-01],\n",
       "       [2.33935588e-01, 7.66064412e-01],\n",
       "       [1.56945515e-01, 8.43054485e-01],\n",
       "       [7.93566591e-01, 2.06433409e-01],\n",
       "       [2.57977314e-01, 7.42022686e-01],\n",
       "       [3.92353623e-01, 6.07646377e-01],\n",
       "       [2.74132350e-01, 7.25867650e-01],\n",
       "       [7.04940864e-01, 2.95059136e-01],\n",
       "       [2.25940489e-01, 7.74059511e-01],\n",
       "       [7.16771396e-01, 2.83228604e-01],\n",
       "       [7.26221309e-01, 2.73778691e-01],\n",
       "       [4.33913371e-01, 5.66086629e-01],\n",
       "       [1.49993508e-01, 8.50006492e-01],\n",
       "       [5.71503506e-02, 9.42849649e-01],\n",
       "       [9.18953760e-01, 8.10462396e-02],\n",
       "       [1.59931165e-01, 8.40068835e-01],\n",
       "       [9.91092271e-01, 8.90772865e-03],\n",
       "       [3.32598735e-01, 6.67401265e-01],\n",
       "       [3.86440916e-01, 6.13559084e-01],\n",
       "       [6.02165973e-02, 9.39783403e-01],\n",
       "       [3.80504318e-01, 6.19495682e-01],\n",
       "       [2.65071468e-01, 7.34928532e-01],\n",
       "       [1.10965971e-01, 8.89034029e-01],\n",
       "       [1.64551052e-01, 8.35448948e-01],\n",
       "       [3.44059633e-03, 9.96559404e-01],\n",
       "       [1.28114073e-01, 8.71885927e-01],\n",
       "       [1.98677723e-01, 8.01322277e-01],\n",
       "       [3.61758757e-03, 9.96382412e-01],\n",
       "       [6.47519216e-03, 9.93524808e-01],\n",
       "       [2.28338868e-01, 7.71661132e-01],\n",
       "       [2.27483948e-01, 7.72516052e-01],\n",
       "       [5.83651172e-01, 4.16348828e-01],\n",
       "       [2.82812065e-01, 7.17187935e-01],\n",
       "       [8.85965684e-01, 1.14034316e-01],\n",
       "       [7.45442105e-03, 9.92545579e-01],\n",
       "       [9.16896763e-01, 8.31032370e-02],\n",
       "       [2.90276178e-01, 7.09723822e-01],\n",
       "       [3.05836600e-02, 9.69416340e-01],\n",
       "       [2.74529760e-01, 7.25470240e-01],\n",
       "       [4.48995154e-03, 9.95510048e-01],\n",
       "       [3.01304300e-01, 6.98695700e-01],\n",
       "       [6.83463857e-01, 3.16536143e-01],\n",
       "       [1.82501434e-01, 8.17498566e-01],\n",
       "       [9.63315471e-01, 3.66845294e-02],\n",
       "       [3.79046518e-01, 6.20953482e-01],\n",
       "       [8.01903146e-01, 1.98096854e-01],\n",
       "       [4.34358854e-03, 9.95656411e-01],\n",
       "       [2.34162632e-01, 7.65837368e-01],\n",
       "       [2.89483845e-01, 7.10516155e-01],\n",
       "       [9.05257671e-01, 9.47423294e-02],\n",
       "       [1.56058297e-01, 8.43941703e-01],\n",
       "       [1.87483683e-01, 8.12516317e-01],\n",
       "       [2.12220359e-01, 7.87779641e-01],\n",
       "       [9.31933910e-01, 6.80660897e-02],\n",
       "       [5.29323171e-02, 9.47067683e-01],\n",
       "       [6.49164375e-01, 3.50835625e-01],\n",
       "       [7.14048069e-02, 9.28595193e-01],\n",
       "       [9.03986706e-01, 9.60132942e-02],\n",
       "       [1.51281218e-01, 8.48718782e-01],\n",
       "       [4.33279795e-01, 5.66720205e-01],\n",
       "       [3.05112692e-01, 6.94887308e-01],\n",
       "       [1.60856702e-02, 9.83914330e-01],\n",
       "       [4.42541014e-03, 9.95574590e-01],\n",
       "       [7.79882171e-01, 2.20117829e-01],\n",
       "       [7.75427083e-01, 2.24572917e-01],\n",
       "       [6.28296946e-02, 9.37170305e-01],\n",
       "       [2.33019806e-01, 7.66980194e-01],\n",
       "       [4.06321224e-01, 5.93678776e-01],\n",
       "       [8.65433425e-01, 1.34566575e-01],\n",
       "       [1.76851130e-01, 8.23148870e-01],\n",
       "       [7.19454957e-02, 9.28054504e-01],\n",
       "       [3.86920736e-01, 6.13079264e-01],\n",
       "       [3.51552796e-01, 6.48447204e-01],\n",
       "       [2.57670505e-01, 7.42329495e-01],\n",
       "       [3.27727487e-01, 6.72272513e-01],\n",
       "       [5.15406802e-01, 4.84593198e-01],\n",
       "       [4.69680720e-01, 5.30319280e-01],\n",
       "       [7.84162000e-01, 2.15838000e-01],\n",
       "       [1.90081850e-01, 8.09918150e-01],\n",
       "       [4.70981056e-01, 5.29018944e-01],\n",
       "       [6.96816612e-01, 3.03183388e-01],\n",
       "       [2.34742285e-01, 7.65257715e-01],\n",
       "       [1.33755479e-01, 8.66244521e-01],\n",
       "       [5.67786079e-01, 4.32213921e-01],\n",
       "       [3.39203370e-01, 6.60796630e-01],\n",
       "       [2.27942975e-01, 7.72057025e-01],\n",
       "       [4.57016169e-01, 5.42983831e-01],\n",
       "       [4.82360187e-01, 5.17639813e-01],\n",
       "       [2.40098665e-01, 7.59901335e-01],\n",
       "       [8.10884046e-01, 1.89115954e-01],\n",
       "       [7.10010206e-01, 2.89989794e-01],\n",
       "       [9.16321457e-01, 8.36785433e-02],\n",
       "       [9.21126428e-01, 7.88735721e-02],\n",
       "       [1.97212616e-01, 8.02787384e-01],\n",
       "       [2.17756521e-01, 7.82243479e-01],\n",
       "       [1.75736151e-01, 8.24263849e-01],\n",
       "       [8.81883310e-01, 1.18116690e-01],\n",
       "       [4.14815116e-02, 9.58518488e-01],\n",
       "       [2.70205428e-01, 7.29794572e-01],\n",
       "       [4.60251706e-03, 9.95397483e-01],\n",
       "       [3.93598289e-01, 6.06401711e-01],\n",
       "       [2.76367694e-01, 7.23632306e-01],\n",
       "       [9.51630660e-02, 9.04836934e-01],\n",
       "       [1.97713762e-01, 8.02286238e-01],\n",
       "       [1.77325065e-01, 8.22674935e-01],\n",
       "       [3.93625479e-03, 9.96063745e-01],\n",
       "       [2.81109729e-01, 7.18890271e-01],\n",
       "       [3.66166347e-01, 6.33833653e-01],\n",
       "       [2.23965751e-01, 7.76034249e-01],\n",
       "       [4.87077062e-01, 5.12922938e-01],\n",
       "       [5.82553226e-01, 4.17446774e-01],\n",
       "       [2.06247646e-04, 9.99793752e-01],\n",
       "       [1.87608941e-01, 8.12391059e-01],\n",
       "       [2.64155489e-01, 7.35844511e-01],\n",
       "       [1.38967532e-01, 8.61032468e-01],\n",
       "       [9.94206427e-01, 5.79357332e-03],\n",
       "       [7.73641923e-02, 9.22635808e-01],\n",
       "       [5.78405152e-01, 4.21594848e-01],\n",
       "       [1.53089479e-01, 8.46910521e-01],\n",
       "       [9.37986868e-01, 6.20131323e-02],\n",
       "       [3.06575544e-01, 6.93424456e-01],\n",
       "       [9.10082049e-02, 9.08991795e-01],\n",
       "       [8.89526147e-01, 1.10473853e-01],\n",
       "       [2.90606397e-01, 7.09393603e-01],\n",
       "       [8.04637946e-01, 1.95362054e-01],\n",
       "       [3.67620593e-01, 6.32379407e-01],\n",
       "       [6.64811819e-01, 3.35188181e-01],\n",
       "       [2.77545389e-01, 7.22454611e-01],\n",
       "       [4.13843712e-01, 5.86156288e-01],\n",
       "       [1.11639265e-01, 8.88360735e-01],\n",
       "       [1.07389202e-01, 8.92610798e-01],\n",
       "       [6.67191578e-02, 9.33280842e-01],\n",
       "       [5.40829426e-01, 4.59170574e-01],\n",
       "       [3.39100993e-01, 6.60899007e-01],\n",
       "       [1.64269874e-02, 9.83573013e-01],\n",
       "       [2.37936188e-01, 7.62063812e-01],\n",
       "       [2.10661428e-01, 7.89338572e-01],\n",
       "       [2.58459749e-01, 7.41540251e-01],\n",
       "       [6.23725021e-01, 3.76274979e-01],\n",
       "       [6.21437688e-01, 3.78562312e-01],\n",
       "       [1.76912972e-01, 8.23087028e-01],\n",
       "       [2.29306458e-01, 7.70693542e-01],\n",
       "       [7.34418169e-01, 2.65581831e-01],\n",
       "       [4.09290569e-03, 9.95907094e-01],\n",
       "       [6.50348337e-01, 3.49651663e-01],\n",
       "       [9.25897653e-02, 9.07410235e-01],\n",
       "       [6.75415395e-01, 3.24584605e-01],\n",
       "       [1.45087581e-01, 8.54912419e-01],\n",
       "       [2.11751252e-01, 7.88248748e-01],\n",
       "       [3.28730696e-01, 6.71269304e-01],\n",
       "       [2.98940055e-01, 7.01059945e-01],\n",
       "       [5.37928456e-03, 9.94620715e-01],\n",
       "       [1.80121936e-01, 8.19878064e-01],\n",
       "       [6.24910104e-01, 3.75089896e-01],\n",
       "       [7.05605998e-01, 2.94394002e-01],\n",
       "       [5.73890024e-01, 4.26109976e-01],\n",
       "       [3.15272136e-01, 6.84727864e-01],\n",
       "       [5.70920754e-01, 4.29079246e-01],\n",
       "       [8.71552973e-01, 1.28447027e-01],\n",
       "       [2.26489858e-01, 7.73510142e-01],\n",
       "       [1.98470960e-01, 8.01529040e-01],\n",
       "       [2.13045400e-01, 7.86954600e-01],\n",
       "       [4.21852695e-01, 5.78147305e-01],\n",
       "       [4.35198469e-01, 5.64801531e-01],\n",
       "       [9.37613451e-01, 6.23865488e-02],\n",
       "       [7.80020905e-01, 2.19979095e-01],\n",
       "       [2.89677887e-01, 7.10322113e-01],\n",
       "       [2.86204036e-01, 7.13795964e-01],\n",
       "       [8.47891037e-01, 1.52108963e-01],\n",
       "       [9.39239211e-01, 6.07607890e-02],\n",
       "       [1.94064879e-01, 8.05935121e-01],\n",
       "       [1.39513084e-01, 8.60486916e-01],\n",
       "       [9.13634746e-01, 8.63652539e-02],\n",
       "       [6.10322380e-01, 3.89677620e-01],\n",
       "       [3.47302780e-01, 6.52697220e-01],\n",
       "       [3.21411356e-01, 6.78588644e-01],\n",
       "       [9.01188950e-01, 9.88110504e-02],\n",
       "       [4.12914478e-01, 5.87085522e-01],\n",
       "       [4.51781330e-01, 5.48218670e-01],\n",
       "       [8.96188151e-01, 1.03811849e-01],\n",
       "       [7.72408464e-01, 2.27591536e-01],\n",
       "       [2.11555479e-01, 7.88444521e-01],\n",
       "       [2.95692519e-01, 7.04307481e-01],\n",
       "       [3.29683422e-01, 6.70316578e-01],\n",
       "       [3.11710608e-03, 9.96882894e-01],\n",
       "       [5.08909003e-01, 4.91090997e-01],\n",
       "       [4.56957058e-01, 5.43042942e-01],\n",
       "       [9.15420034e-01, 8.45799662e-02],\n",
       "       [1.60793249e-01, 8.39206751e-01],\n",
       "       [9.60031256e-01, 3.99687441e-02],\n",
       "       [9.08581654e-01, 9.14183464e-02],\n",
       "       [9.55560381e-01, 4.44396195e-02],\n",
       "       [1.86895083e-02, 9.81310492e-01],\n",
       "       [3.08708961e-01, 6.91291039e-01],\n",
       "       [2.23360917e-01, 7.76639083e-01],\n",
       "       [6.73341512e-01, 3.26658488e-01],\n",
       "       [2.40440061e-01, 7.59559939e-01],\n",
       "       [8.95097573e-01, 1.04902427e-01],\n",
       "       [7.04128965e-01, 2.95871035e-01],\n",
       "       [2.16981599e-01, 7.83018401e-01],\n",
       "       [7.85535752e-01, 2.14464248e-01],\n",
       "       [9.00310579e-01, 9.96894214e-02],\n",
       "       [2.04662105e-01, 7.95337895e-01],\n",
       "       [4.33627966e-02, 9.56637203e-01],\n",
       "       [2.44109435e-01, 7.55890565e-01],\n",
       "       [8.43481784e-01, 1.56518216e-01],\n",
       "       [7.00133635e-01, 2.99866365e-01],\n",
       "       [8.33833442e-02, 9.16616656e-01],\n",
       "       [3.54301015e-01, 6.45698985e-01],\n",
       "       [2.20425571e-01, 7.79574429e-01],\n",
       "       [1.33898993e-01, 8.66101007e-01],\n",
       "       [4.17631054e-01, 5.82368946e-01],\n",
       "       [2.08312002e-01, 7.91687998e-01],\n",
       "       [7.75415993e-01, 2.24584007e-01],\n",
       "       [1.38039088e-01, 8.61960912e-01],\n",
       "       [1.92856153e-01, 8.07143847e-01],\n",
       "       [6.32926354e-03, 9.93670736e-01],\n",
       "       [6.65901096e-01, 3.34098904e-01],\n",
       "       [5.44078643e-03, 9.94559214e-01],\n",
       "       [4.80777240e-02, 9.51922276e-01],\n",
       "       [2.24569950e-01, 7.75430050e-01],\n",
       "       [6.18043520e-01, 3.81956480e-01],\n",
       "       [6.76256705e-01, 3.23743295e-01],\n",
       "       [2.06038820e-01, 7.93961180e-01],\n",
       "       [1.92638889e-01, 8.07361111e-01]])"
      ]
     },
     "execution_count": 48,
     "metadata": {},
     "output_type": "execute_result"
    }
   ],
   "source": [
    "log.predict_proba(x_test)"
   ]
  },
  {
   "cell_type": "code",
   "execution_count": 51,
   "id": "d9bf4486-fa15-45f4-970f-921e02dc1af4",
   "metadata": {},
   "outputs": [
    {
     "data": {
      "text/plain": [
       "array([1, 1, 1, 1, 0, 1, 1, 0, 1, 0, 1, 1, 0, 1, 1, 1, 0, 0, 1, 1, 1, 1,\n",
       "       1, 1, 1, 1, 1, 1, 1, 0, 1, 0, 1, 0, 1, 1, 1, 0, 1, 1, 1, 0, 0, 1,\n",
       "       1, 1, 0, 1, 1, 1, 0, 1, 0, 0, 1, 1, 1, 0, 1, 0, 1, 1, 1, 1, 1, 1,\n",
       "       1, 1, 1, 1, 1, 1, 1, 1, 0, 1, 0, 1, 0, 1, 1, 1, 1, 1, 0, 1, 0, 1,\n",
       "       0, 1, 1, 1, 0, 1, 1, 1, 0, 1, 0, 1, 0, 1, 1, 1, 1, 1, 0, 0, 1, 1,\n",
       "       1, 0, 1, 1, 1, 1, 1, 1, 0, 1, 0, 1, 1, 0, 1, 1, 0, 1, 1, 1, 1, 1,\n",
       "       0, 0, 0, 0, 1, 1, 1, 0, 1, 1, 1, 1, 1, 1, 1, 1, 1, 1, 1, 1, 1, 0,\n",
       "       1, 1, 1, 1, 0, 1, 0, 1, 0, 1, 1, 0, 1, 0, 1, 0, 1, 1, 1, 1, 1, 0,\n",
       "       1, 1, 1, 1, 1, 0, 0, 1, 1, 0, 1, 0, 1, 0, 1, 1, 1, 1, 1, 1, 0, 0,\n",
       "       0, 1, 0, 0, 1, 1, 1, 1, 1, 0, 0, 1, 1, 0, 0, 1, 1, 0, 0, 1, 1, 0,\n",
       "       1, 1, 0, 0, 1, 1, 1, 1, 0, 1, 0, 1, 0, 0, 0, 1, 1, 1, 0, 1, 0, 0,\n",
       "       1, 0, 0, 1, 1, 1, 0, 0, 1, 1, 1, 1, 1, 1, 0, 1, 1, 1, 0, 1, 1, 1,\n",
       "       0, 0, 1, 1])"
      ]
     },
     "execution_count": 51,
     "metadata": {},
     "output_type": "execute_result"
    }
   ],
   "source": [
    "# .predict_proba returns the probability values for class 0 and class 1\n",
    "prob=log.predict_proba(x_test)[:,-1]\n",
    "np.where(prob>=0.5,1,0)"
   ]
  },
  {
   "cell_type": "code",
   "execution_count": 55,
   "id": "30ea5b15-2fec-4524-b8c0-9cee4ec71838",
   "metadata": {},
   "outputs": [],
   "source": [
    "threshold=[0.5,0.4,0.3,0.2,0.1]\n",
    "tprs=[]\n",
    "fprs=[]\n",
    "for i in threshold:\n",
    "    y_pred=np.where(prob>=i,1,0)\n",
    "    tn,fp,fn,tp=confusion_matrix(y_test,y_pred).ravel()\n",
    "    fpr=fp/(tn+fp)\n",
    "    tpr=tp/(fn+tp)\n",
    "    tprs.append(tpr)\n",
    "    fprs.append(fpr)"
   ]
  },
  {
   "cell_type": "code",
   "execution_count": 58,
   "id": "e13cebf5-05b9-4ced-87f8-ef091d625b38",
   "metadata": {},
   "outputs": [
    {
     "data": {
      "image/png": "[encoded data removed]",
      "text/plain": [
       "<Figure size 640x480 with 1 Axes>"
      ]
     },
     "metadata": {},
     "output_type": "display_data"
    }
   ],
   "source": [
    "plt.figure()\n",
    "plt.plot(fprs,tprs,'o--r')\n",
    "plt.xlabel('FPR')\n",
    "plt.ylabel('TPR')\n",
    "plt.title('ROC')\n",
    "plt.show()"
   ]
  },
  {
   "cell_type": "code",
   "execution_count": null,
   "id": "a35602c4-ab66-4c87-b485-3558683b399f",
   "metadata": {},
   "outputs": [],
   "source": [
    "## Here as FPR increases TPR is also increasing\n",
    "# here suppose we want a model which gives good recall\n",
    "##  so we have to change the threshold value \n",
    "# but we can observe thr=0.2 is giving best values for TPR and FPR\n",
    "# so we can take thre=0.2 for our model\n"
   ]
  },
  {
   "cell_type": "code",
   "execution_count": 64,
   "id": "56168d83-faab-426a-9633-065580a56f23",
   "metadata": {},
   "outputs": [
    {
     "data": {
      "text/plain": [
       "0.9570552147239264"
      ]
     },
     "execution_count": 64,
     "metadata": {},
     "output_type": "execute_result"
    }
   ],
   "source": [
    "y_pred=np.where(prob>0.2,1,0)  # our threshold\n",
    "recall_score(y_test,y_pred)"
   ]
  },
  {
   "cell_type": "code",
   "execution_count": null,
   "id": "3d8414f2-f076-4dce-a31a-56ee8759d46b",
   "metadata": {},
   "outputs": [],
   "source": [
    "#### USe Cross Validatioon to validate accuracy"
   ]
  },
  {
   "cell_type": "code",
   "execution_count": null,
   "id": "4782f588-d79a-49d2-af3c-769cade730aa",
   "metadata": {},
   "outputs": [],
   "source": []
  },
  {
   "cell_type": "code",
   "execution_count": null,
   "id": "1c5aac57-9d61-44dc-bd71-6560520cf2af",
   "metadata": {},
   "outputs": [],
   "source": []
  },
  {
   "cell_type": "code",
   "execution_count": null,
   "id": "1dc086ca-6fa1-4822-9ef1-a79f4b976ce0",
   "metadata": {},
   "outputs": [],
   "source": []
  },
  {
   "cell_type": "code",
   "execution_count": null,
   "id": "5b16bc5c-c18e-4f77-bee1-0ff01112aa7b",
   "metadata": {},
   "outputs": [],
   "source": []
  },
  {
   "cell_type": "code",
   "execution_count": null,
   "id": "3d6fb333-f7aa-4b27-bbff-60d625839f04",
   "metadata": {},
   "outputs": [],
   "source": []
  },
  {
   "cell_type": "code",
   "execution_count": null,
   "id": "3abc5d4d-5d88-4da8-92a1-7d05e23d7f39",
   "metadata": {},
   "outputs": [],
   "source": []
  },
  {
   "cell_type": "code",
   "execution_count": null,
   "id": "f7fe4828-0b23-4145-8887-b41c197254cf",
   "metadata": {},
   "outputs": [],
   "source": []
  },
  {
   "cell_type": "code",
   "execution_count": null,
   "id": "8ef1519c-18df-4b9d-870c-72cfa2f782ec",
   "metadata": {},
   "outputs": [],
   "source": []
  },
  {
   "cell_type": "code",
   "execution_count": null,
   "id": "45f6f64e-3d68-49d3-94c4-8e3a95c24b79",
   "metadata": {},
   "outputs": [],
   "source": []
  },
  {
   "cell_type": "code",
   "execution_count": null,
   "id": "daaaf669-8c7a-44a6-80b5-9abf36c57e2f",
   "metadata": {},
   "outputs": [],
   "source": []
  },
  {
   "cell_type": "code",
   "execution_count": null,
   "id": "c37ad0bb-ed9f-405d-bce8-27ba05a796e6",
   "metadata": {},
   "outputs": [],
   "source": []
  },
  {
   "cell_type": "code",
   "execution_count": null,
   "id": "60d64315-b2d1-4539-b772-e07f0cfca413",
   "metadata": {},
   "outputs": [],
   "source": []
  },
  {
   "cell_type": "code",
   "execution_count": null,
   "id": "638a4efc-ccb3-44bd-8f66-1f505b7d2567",
   "metadata": {},
   "outputs": [],
   "source": []
  },
  {
   "cell_type": "code",
   "execution_count": null,
   "id": "a2aa8ff7-8060-4124-a105-ad954d8c9957",
   "metadata": {},
   "outputs": [],
   "source": []
  },
  {
   "cell_type": "code",
   "execution_count": null,
   "id": "c809a434-97f5-458e-815f-4696dcdcd155",
   "metadata": {},
   "outputs": [],
   "source": []
  },
  {
   "cell_type": "code",
   "execution_count": null,
   "id": "3b95b2e3-a826-42a7-b86b-5246abb0bb51",
   "metadata": {},
   "outputs": [],
   "source": []
  },
  {
   "cell_type": "code",
   "execution_count": null,
   "id": "2436e43d-071c-4c8b-9ebb-7f1f115d0643",
   "metadata": {},
   "outputs": [],
   "source": []
  },
  {
   "cell_type": "code",
   "execution_count": null,
   "id": "96d91b93-bd39-4a53-802c-63a427997cf6",
   "metadata": {},
   "outputs": [],
   "source": []
  },
  {
   "cell_type": "code",
   "execution_count": null,
   "id": "28bc3ab7-6b2a-49f4-b40e-bc1c76ea6478",
   "metadata": {},
   "outputs": [],
   "source": []
  },
  {
   "cell_type": "code",
   "execution_count": null,
   "id": "cec753a7-4886-411a-9e45-4527c9f83086",
   "metadata": {},
   "outputs": [],
   "source": []
  },
  {
   "cell_type": "code",
   "execution_count": null,
   "id": "b095836f-22b9-409b-9dfc-2f089687274a",
   "metadata": {},
   "outputs": [],
   "source": []
  },
  {
   "cell_type": "code",
   "execution_count": null,
   "id": "bbd6d805-fb6a-4e8d-9567-667c74c7b197",
   "metadata": {},
   "outputs": [],
   "source": []
  },
  {
   "cell_type": "code",
   "execution_count": null,
   "id": "c07df694-a1dd-451d-bbb6-7bd2297b33b2",
   "metadata": {},
   "outputs": [],
   "source": []
  },
  {
   "cell_type": "code",
   "execution_count": null,
   "id": "f41c667a-18b7-4f13-b85c-ea6188376f31",
   "metadata": {},
   "outputs": [],
   "source": []
  },
  {
   "cell_type": "code",
   "execution_count": null,
   "id": "9a6dd974-8cc4-43f0-af33-5a7d15f6ca12",
   "metadata": {},
   "outputs": [],
   "source": []
  },
  {
   "cell_type": "code",
   "execution_count": null,
   "id": "4efa1b13-343a-49db-aa45-7408f7b18cac",
   "metadata": {},
   "outputs": [],
   "source": []
  },
  {
   "cell_type": "code",
   "execution_count": null,
   "id": "1c4ff69f-7d98-46ef-864c-b46ea079af45",
   "metadata": {},
   "outputs": [],
   "source": []
  },
  {
   "cell_type": "code",
   "execution_count": null,
   "id": "4f10f76b-b017-4f02-9cf3-95d62ad394fa",
   "metadata": {},
   "outputs": [],
   "source": []
  },
  {
   "cell_type": "code",
   "execution_count": null,
   "id": "a164d4fd-f87e-47fd-8ec6-8ea3fc60b9aa",
   "metadata": {},
   "outputs": [],
   "source": []
  },
  {
   "cell_type": "code",
   "execution_count": null,
   "id": "bf2ab92a-6628-475e-abe0-909c7e0ecbd9",
   "metadata": {},
   "outputs": [],
   "source": []
  },
  {
   "cell_type": "code",
   "execution_count": null,
   "id": "6dac2c2c-27aa-407b-9b94-1357095ed115",
   "metadata": {},
   "outputs": [],
   "source": []
  },
  {
   "cell_type": "code",
   "execution_count": null,
   "id": "9167c043-15cb-4c09-a166-988ed96023f2",
   "metadata": {},
   "outputs": [],
   "source": []
  },
  {
   "cell_type": "code",
   "execution_count": null,
   "id": "015b5e1b-b9ac-4f36-a7b4-0b7f2a986f91",
   "metadata": {},
   "outputs": [],
   "source": []
  },
  {
   "cell_type": "code",
   "execution_count": null,
   "id": "b348d6f6-f9b3-45fc-aac8-2a03dbca2d30",
   "metadata": {},
   "outputs": [],
   "source": []
  },
  {
   "cell_type": "code",
   "execution_count": null,
   "id": "842b4211-3e9f-45f8-98f5-da5f55b282d6",
   "metadata": {},
   "outputs": [],
   "source": []
  },
  {
   "cell_type": "code",
   "execution_count": null,
   "id": "cd6c14c2-43e1-4199-85b9-a36f7c9cf049",
   "metadata": {},
   "outputs": [],
   "source": []
  },
  {
   "cell_type": "code",
   "execution_count": null,
   "id": "5da6131b-98eb-46cc-abfc-6d9489304eea",
   "metadata": {},
   "outputs": [],
   "source": []
  },
  {
   "cell_type": "code",
   "execution_count": null,
   "id": "7d7cfb14-9c96-4ba4-be61-7368526717a4",
   "metadata": {},
   "outputs": [],
   "source": []
  },
  {
   "cell_type": "code",
   "execution_count": null,
   "id": "8e980e99-4e63-46f3-9f75-34697ac9ba2d",
   "metadata": {},
   "outputs": [],
   "source": []
  },
  {
   "cell_type": "code",
   "execution_count": null,
   "id": "baf7ac9c-d0d8-40c6-9bf6-a1ff3b0d93a1",
   "metadata": {},
   "outputs": [],
   "source": []
  },
  {
   "cell_type": "code",
   "execution_count": null,
   "id": "bd880ac4-6416-4abd-8ade-c5fa3a21fcb8",
   "metadata": {},
   "outputs": [],
   "source": []
  },
  {
   "cell_type": "code",
   "execution_count": null,
   "id": "472144ce-4eb9-4298-867f-950c5761087c",
   "metadata": {},
   "outputs": [],
   "source": []
  },
  {
   "cell_type": "code",
   "execution_count": null,
   "id": "e008cecf-d616-470c-a674-24fea7cf8966",
   "metadata": {},
   "outputs": [],
   "source": []
  },
  {
   "cell_type": "code",
   "execution_count": null,
   "id": "af78d15f-6e12-4f8e-9663-44729063bb40",
   "metadata": {},
   "outputs": [],
   "source": []
  },
  {
   "cell_type": "code",
   "execution_count": null,
   "id": "10447fb0-6f0b-4013-b846-2be3b3bd376b",
   "metadata": {},
   "outputs": [],
   "source": []
  }
 ],
 "metadata": {
  "kernelspec": {
   "display_name": "Python 3 (ipykernel)",
   "language": "python",
   "name": "python3"
  },
  "language_info": {
   "codemirror_mode": {
    "name": "ipython",
    "version": 3
   },
   "file_extension": ".py",
   "mimetype": "text/x-python",
   "name": "python",
   "nbconvert_exporter": "python",
   "pygments_lexer": "ipython3",
   "version": "3.11.7"
  }
 },
 "nbformat": 4,
 "nbformat_minor": 5
}
