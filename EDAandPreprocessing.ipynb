{
 "cells": [
  {
   "cell_type": "code",
   "execution_count": 1,
   "id": "b0e020e2-1b8d-4b03-9328-d0f4e3670e79",
   "metadata": {},
   "outputs": [],
   "source": [
    "#EDA ---Exploratory Data Analysis\n",
    "# we try to analyse the data using visualizations.\n",
    "# Preprocessing : Understanding the data columns\n",
    "# 1.Missing value tratment \n",
    "#(Numerical col===>if there is outlier we should fill missing value by median\n",
    "#                  if there is no outlier we should fill missing value by mean\n",
    "# (categorical col ===>mode value)\n",
    "#2.Outlier Removal/treatment :\n",
    "# 1.IQR method  2.Z-score method(near to normal dist)\n",
    "# 3.To see correlation ,skewness ,kurtosis\n",
    "#4.Numerical===> Scaling  ( Minmax scaler,Standardization)\n",
    "#  Categorical ===>Encoding ( Label Encoder,One hot encoder)\n"
   ]
  },
  {
   "cell_type": "code",
   "execution_count": 1,
   "id": "6438d7f6-b4fa-4fbf-98a6-e61de208e9d1",
   "metadata": {},
   "outputs": [],
   "source": [
    "# importing the libraries\n",
    "import os,sys\n",
    "import numpy as np\n",
    "import pandas as pd\n",
    "import matplotlib.pyplot as plt\n",
    "import seaborn as sns\n",
    "from scipy import stats\n",
    "import warnings\n",
    "warnings.filterwarnings('ignore')\n",
    "%matplotlib inline\n"
   ]
  },
  {
   "cell_type": "code",
   "execution_count": 3,
   "id": "63723051-df12-466e-a5be-7a182107e9c8",
   "metadata": {},
   "outputs": [
    {
     "name": "stdout",
     "output_type": "stream",
     "text": [
      "C:\\Users\\Admin\\Desktop\\it_VEDANT\\IT_vedant_training\\Data Science\\ML\n"
     ]
    }
   ],
   "source": [
    "# get current working dir\n",
    "print(os.getcwd())"
   ]
  },
  {
   "cell_type": "code",
   "execution_count": 4,
   "id": "9600babd-dd8d-4dfb-b1ba-b448a54f045f",
   "metadata": {},
   "outputs": [
    {
     "ename": "NameError",
     "evalue": "name 'pwd' is not defined",
     "output_type": "error",
     "traceback": [
      "\u001b[1;31m---------------------------------------------------------------------------\u001b[0m",
      "\u001b[1;31mNameError\u001b[0m                                 Traceback (most recent call last)",
      "Cell \u001b[1;32mIn[4], line 2\u001b[0m\n\u001b[0;32m      1\u001b[0m \u001b[38;5;66;03m#print working dir\u001b[39;00m\n\u001b[1;32m----> 2\u001b[0m pwd\n",
      "\u001b[1;31mNameError\u001b[0m: name 'pwd' is not defined"
     ]
    }
   ],
   "source": [
    "#print working dir\n"
   ]
  },
  {
   "cell_type": "code",
   "execution_count": 2,
   "id": "f729ce79-5900-4b98-96ec-07319283f9e9",
   "metadata": {},
   "outputs": [
    {
     "name": "stdout",
     "output_type": "stream",
     "text": [
      "True\n"
     ]
    }
   ],
   "source": [
    "# \n",
    "print(os.path.isfile('Employee_Data.xls'))"
   ]
  },
  {
   "cell_type": "code",
   "execution_count": 7,
   "id": "7a9d1b6e-c60c-4333-b6ac-26f0fddc167a",
   "metadata": {},
   "outputs": [
    {
     "name": "stdout",
     "output_type": "stream",
     "text": [
      "Defaulting to user installation because normal site-packages is not writeable\n",
      "Requirement already satisfied: xlrd in c:\\users\\admin\\appdata\\roaming\\python\\python311\\site-packages (2.0.1)\n"
     ]
    }
   ],
   "source": [
    "!pip install xlrd"
   ]
  },
  {
   "cell_type": "code",
   "execution_count": 3,
   "id": "6c178230-3836-49ee-88fb-9edc850fc9eb",
   "metadata": {},
   "outputs": [],
   "source": [
    "# Importing the excel file\n",
    "df=pd.read_excel('Employee_Data.xls')"
   ]
  },
  {
   "cell_type": "code",
   "execution_count": 4,
   "id": "7513c16a-2578-4f92-9398-8ef42707b38c",
   "metadata": {},
   "outputs": [
    {
     "data": {
      "text/html": [
       "<div>\n",
       "<style scoped>\n",
       "    .dataframe tbody tr th:only-of-type {\n",
       "        vertical-align: middle;\n",
       "    }\n",
       "\n",
       "    .dataframe tbody tr th {\n",
       "        vertical-align: top;\n",
       "    }\n",
       "\n",
       "    .dataframe thead th {\n",
       "        text-align: right;\n",
       "    }\n",
       "</style>\n",
       "<table border=\"1\" class=\"dataframe\">\n",
       "  <thead>\n",
       "    <tr style=\"text-align: right;\">\n",
       "      <th></th>\n",
       "      <th>Employee Id</th>\n",
       "      <th>First Name</th>\n",
       "      <th>Last Name</th>\n",
       "      <th>Department</th>\n",
       "      <th>Age</th>\n",
       "      <th>Experience</th>\n",
       "      <th>Salary</th>\n",
       "    </tr>\n",
       "  </thead>\n",
       "  <tbody>\n",
       "    <tr>\n",
       "      <th>0</th>\n",
       "      <td>1</td>\n",
       "      <td>Joy</td>\n",
       "      <td>Bass</td>\n",
       "      <td>Sales and Marketing</td>\n",
       "      <td>28.0</td>\n",
       "      <td>3.0</td>\n",
       "      <td>32889</td>\n",
       "    </tr>\n",
       "    <tr>\n",
       "      <th>1</th>\n",
       "      <td>2</td>\n",
       "      <td>Sheila</td>\n",
       "      <td>Garza</td>\n",
       "      <td>Sales and Marketing</td>\n",
       "      <td>22.0</td>\n",
       "      <td>1.0</td>\n",
       "      <td>15944</td>\n",
       "    </tr>\n",
       "    <tr>\n",
       "      <th>2</th>\n",
       "      <td>3</td>\n",
       "      <td>John</td>\n",
       "      <td>Bryant</td>\n",
       "      <td>Customer Relations</td>\n",
       "      <td>22.0</td>\n",
       "      <td>1.0</td>\n",
       "      <td>40343</td>\n",
       "    </tr>\n",
       "    <tr>\n",
       "      <th>3</th>\n",
       "      <td>4</td>\n",
       "      <td>Christian</td>\n",
       "      <td>Farley</td>\n",
       "      <td>Customer Relations</td>\n",
       "      <td>22.0</td>\n",
       "      <td>1.0</td>\n",
       "      <td>19018</td>\n",
       "    </tr>\n",
       "    <tr>\n",
       "      <th>4</th>\n",
       "      <td>5</td>\n",
       "      <td>Colorado</td>\n",
       "      <td>Bowen</td>\n",
       "      <td>Accounting</td>\n",
       "      <td>27.0</td>\n",
       "      <td>0.0</td>\n",
       "      <td>24795</td>\n",
       "    </tr>\n",
       "  </tbody>\n",
       "</table>\n",
       "</div>"
      ],
      "text/plain": [
       "   Employee Id First Name Last Name           Department   Age  Experience  \\\n",
       "0            1        Joy      Bass  Sales and Marketing  28.0         3.0   \n",
       "1            2     Sheila     Garza  Sales and Marketing  22.0         1.0   \n",
       "2            3       John    Bryant   Customer Relations  22.0         1.0   \n",
       "3            4  Christian    Farley   Customer Relations  22.0         1.0   \n",
       "4            5   Colorado     Bowen           Accounting  27.0         0.0   \n",
       "\n",
       "   Salary  \n",
       "0   32889  \n",
       "1   15944  \n",
       "2   40343  \n",
       "3   19018  \n",
       "4   24795  "
      ]
     },
     "execution_count": 4,
     "metadata": {},
     "output_type": "execute_result"
    }
   ],
   "source": [
    "df.head()"
   ]
  },
  {
   "cell_type": "code",
   "execution_count": 5,
   "id": "4244e878-0fac-4e73-89aa-ab042e563664",
   "metadata": {},
   "outputs": [],
   "source": [
    "#finding the shape of our data\n",
    "mydata=df.copy()"
   ]
  },
  {
   "cell_type": "code",
   "execution_count": 6,
   "id": "871aebd0-5aa4-43e9-9cfd-4eaa18e31eac",
   "metadata": {},
   "outputs": [
    {
     "data": {
      "text/plain": [
       "(100, 7)"
      ]
     },
     "execution_count": 6,
     "metadata": {},
     "output_type": "execute_result"
    }
   ],
   "source": [
    "mydata.shape"
   ]
  },
  {
   "cell_type": "code",
   "execution_count": 12,
   "id": "03475276-d436-406a-87e2-7479f3819cfc",
   "metadata": {},
   "outputs": [
    {
     "data": {
      "text/plain": [
       "Index(['Employee Id', 'First Name', 'Last Name', 'Department', 'Age',\n",
       "       'Experience', 'Salary'],\n",
       "      dtype='object')"
      ]
     },
     "execution_count": 12,
     "metadata": {},
     "output_type": "execute_result"
    }
   ],
   "source": [
    "# to find columns of the data\n",
    "mydata.columns"
   ]
  },
  {
   "cell_type": "code",
   "execution_count": 13,
   "id": "82bc435d-c743-4411-998b-13910ec62d7c",
   "metadata": {},
   "outputs": [
    {
     "name": "stdout",
     "output_type": "stream",
     "text": [
      "<class 'pandas.core.frame.DataFrame'>\n",
      "RangeIndex: 100 entries, 0 to 99\n",
      "Data columns (total 7 columns):\n",
      " #   Column       Non-Null Count  Dtype  \n",
      "---  ------       --------------  -----  \n",
      " 0   Employee Id  100 non-null    int64  \n",
      " 1   First Name   100 non-null    object \n",
      " 2   Last Name    100 non-null    object \n",
      " 3   Department   81 non-null     object \n",
      " 4   Age          82 non-null     float64\n",
      " 5   Experience   90 non-null     float64\n",
      " 6   Salary       100 non-null    int64  \n",
      "dtypes: float64(2), int64(2), object(3)\n",
      "memory usage: 5.6+ KB\n"
     ]
    }
   ],
   "source": [
    "df.info()"
   ]
  },
  {
   "cell_type": "code",
   "execution_count": 14,
   "id": "faedd216-55ef-471c-be23-0d6dd6125fa2",
   "metadata": {},
   "outputs": [
    {
     "data": {
      "text/html": [
       "<div>\n",
       "<style scoped>\n",
       "    .dataframe tbody tr th:only-of-type {\n",
       "        vertical-align: middle;\n",
       "    }\n",
       "\n",
       "    .dataframe tbody tr th {\n",
       "        vertical-align: top;\n",
       "    }\n",
       "\n",
       "    .dataframe thead th {\n",
       "        text-align: right;\n",
       "    }\n",
       "</style>\n",
       "<table border=\"1\" class=\"dataframe\">\n",
       "  <thead>\n",
       "    <tr style=\"text-align: right;\">\n",
       "      <th></th>\n",
       "      <th>Employee Id</th>\n",
       "      <th>Age</th>\n",
       "      <th>Experience</th>\n",
       "      <th>Salary</th>\n",
       "    </tr>\n",
       "  </thead>\n",
       "  <tbody>\n",
       "    <tr>\n",
       "      <th>count</th>\n",
       "      <td>100.000000</td>\n",
       "      <td>82.000000</td>\n",
       "      <td>90.000000</td>\n",
       "      <td>100.000000</td>\n",
       "    </tr>\n",
       "    <tr>\n",
       "      <th>mean</th>\n",
       "      <td>50.500000</td>\n",
       "      <td>37.975610</td>\n",
       "      <td>14.766667</td>\n",
       "      <td>65066.760000</td>\n",
       "    </tr>\n",
       "    <tr>\n",
       "      <th>std</th>\n",
       "      <td>29.011492</td>\n",
       "      <td>9.515388</td>\n",
       "      <td>6.889252</td>\n",
       "      <td>26189.874212</td>\n",
       "    </tr>\n",
       "    <tr>\n",
       "      <th>min</th>\n",
       "      <td>1.000000</td>\n",
       "      <td>22.000000</td>\n",
       "      <td>0.000000</td>\n",
       "      <td>11830.000000</td>\n",
       "    </tr>\n",
       "    <tr>\n",
       "      <th>25%</th>\n",
       "      <td>25.750000</td>\n",
       "      <td>27.250000</td>\n",
       "      <td>9.250000</td>\n",
       "      <td>48526.000000</td>\n",
       "    </tr>\n",
       "    <tr>\n",
       "      <th>50%</th>\n",
       "      <td>50.500000</td>\n",
       "      <td>42.000000</td>\n",
       "      <td>16.500000</td>\n",
       "      <td>73500.500000</td>\n",
       "    </tr>\n",
       "    <tr>\n",
       "      <th>75%</th>\n",
       "      <td>75.250000</td>\n",
       "      <td>45.750000</td>\n",
       "      <td>21.000000</td>\n",
       "      <td>86621.250000</td>\n",
       "    </tr>\n",
       "    <tr>\n",
       "      <th>max</th>\n",
       "      <td>100.000000</td>\n",
       "      <td>50.000000</td>\n",
       "      <td>25.000000</td>\n",
       "      <td>98180.000000</td>\n",
       "    </tr>\n",
       "  </tbody>\n",
       "</table>\n",
       "</div>"
      ],
      "text/plain": [
       "       Employee Id        Age  Experience        Salary\n",
       "count   100.000000  82.000000   90.000000    100.000000\n",
       "mean     50.500000  37.975610   14.766667  65066.760000\n",
       "std      29.011492   9.515388    6.889252  26189.874212\n",
       "min       1.000000  22.000000    0.000000  11830.000000\n",
       "25%      25.750000  27.250000    9.250000  48526.000000\n",
       "50%      50.500000  42.000000   16.500000  73500.500000\n",
       "75%      75.250000  45.750000   21.000000  86621.250000\n",
       "max     100.000000  50.000000   25.000000  98180.000000"
      ]
     },
     "execution_count": 14,
     "metadata": {},
     "output_type": "execute_result"
    }
   ],
   "source": [
    "mydata.describe()"
   ]
  },
  {
   "cell_type": "code",
   "execution_count": 8,
   "id": "03d6a41a-78e3-4f48-8f2c-e0c74b36d23c",
   "metadata": {},
   "outputs": [
    {
     "name": "stdout",
     "output_type": "stream",
     "text": [
      "Department ['Sales and Marketing' 'Customer Relations' 'Accounting' nan]\n",
      "**********************************\n",
      "Age [28. 22. 27. 26. 24. 29. 30. 25. 33. 36. 35. 40. 39. nan 38. 41. 44. 50.\n",
      " 47. 43. 48. 46. 42. 49. 45.]\n",
      "**********************************\n",
      "Experience [ 3.  1.  0.  5.  6.  2. nan 13.  7. 10. 12. 14. 15.  9. 11.  8. 25. 17.\n",
      " 21. 19. 22. 16. 18. 23. 24. 20.]\n",
      "**********************************\n",
      "Salary [32889 15944 40343 19018 24795 15387 34117 16099 42105 11891 34687 23549\n",
      " 29110 33435 11830 44065 13266 16631 29886 30464 14943 18632 38183 43093\n",
      " 26573 51228 57902 54233 70010 74683 53867 60117 72055 50013 50118 72318\n",
      " 53828 58362 63391 62983 65939 51715 54250 50462 64418 60164 66528 57278\n",
      " 71607 61222 68388 94704 89493 94310 81615 84306 77452 76904 90798 86261\n",
      " 78332 84881 76528 83524 89258 75431 91870 76708 95222 90802 86277 77330\n",
      " 85286 90930 88833 95908 92365 93854 85336 79898 84708 88381 93206 91795\n",
      " 96432 83300 94778 82283 97056 87654 89875 98180 84185 79509 97990 79077\n",
      " 81187 83847 89158 91645]\n",
      "**********************************\n"
     ]
    }
   ],
   "source": [
    "# to find the unique values in each column\n",
    "lst=['Department','Age','Experience','Salary']\n",
    "for i in lst:\n",
    "    print(i,mydata[i].unique())\n",
    "    print('**********************************')\n",
    "          "
   ]
  },
  {
   "cell_type": "code",
   "execution_count": 9,
   "id": "a2e294fe-20a5-45d6-821d-e0582c5a4523",
   "metadata": {},
   "outputs": [
    {
     "data": {
      "text/plain": [
       "Employee Id     0\n",
       "First Name      0\n",
       "Last Name       0\n",
       "Department     19\n",
       "Age            18\n",
       "Experience     10\n",
       "Salary          0\n",
       "dtype: int64"
      ]
     },
     "execution_count": 9,
     "metadata": {},
     "output_type": "execute_result"
    }
   ],
   "source": [
    "# to find no of null or missing values :\n",
    "mydata.isnull().sum()"
   ]
  },
  {
   "cell_type": "code",
   "execution_count": 10,
   "id": "8eef8736-1a0f-4a66-9d3f-c617eb699adb",
   "metadata": {},
   "outputs": [
    {
     "data": {
      "text/plain": [
       "Department\n",
       "Sales and Marketing    30\n",
       "Accounting             27\n",
       "Customer Relations     24\n",
       "Name: count, dtype: int64"
      ]
     },
     "execution_count": 10,
     "metadata": {},
     "output_type": "execute_result"
    }
   ],
   "source": [
    "# treating the missing values :\n",
    "#1.Department :Categorical so we should go for mode\n",
    "mydata['Department'].value_counts()\n",
    "# mode is Sales and Marketing"
   ]
  },
  {
   "cell_type": "code",
   "execution_count": 11,
   "id": "d3ef0c3c-522b-4fdf-807c-18fba4ed6710",
   "metadata": {},
   "outputs": [],
   "source": [
    "mydata['Department']=mydata['Department'].fillna('Sales and Marketing')"
   ]
  },
  {
   "cell_type": "code",
   "execution_count": 12,
   "id": "ddcddb58-280f-4137-a807-3ac10993da99",
   "metadata": {},
   "outputs": [
    {
     "data": {
      "text/plain": [
       "0"
      ]
     },
     "execution_count": 12,
     "metadata": {},
     "output_type": "execute_result"
    }
   ],
   "source": [
    "mydata['Department'].isnull().sum()"
   ]
  },
  {
   "cell_type": "code",
   "execution_count": 13,
   "id": "0f964877-c703-47d4-9d19-5d3ad5c4588c",
   "metadata": {},
   "outputs": [
    {
     "data": {
      "text/plain": [
       "Employee Id     0\n",
       "First Name      0\n",
       "Last Name       0\n",
       "Department      0\n",
       "Age            18\n",
       "Experience     10\n",
       "Salary          0\n",
       "dtype: int64"
      ]
     },
     "execution_count": 13,
     "metadata": {},
     "output_type": "execute_result"
    }
   ],
   "source": [
    "mydata.isnull().sum()"
   ]
  },
  {
   "cell_type": "code",
   "execution_count": 14,
   "id": "59f6ad4d-b965-436a-a01f-6ede7d4ab5c6",
   "metadata": {},
   "outputs": [
    {
     "data": {
      "text/plain": [
       "<Axes: ylabel='Age'>"
      ]
     },
     "execution_count": 14,
     "metadata": {},
     "output_type": "execute_result"
    },
    {
     "data": {
      "image/png": "[encoded data removed]",
      "text/plain": [
       "<Figure size 640x480 with 1 Axes>"
      ]
     },
     "metadata": {},
     "output_type": "display_data"
    }
   ],
   "source": [
    "# next to find null values for age and exp\n",
    "sns.boxplot(mydata['Age'])"
   ]
  },
  {
   "cell_type": "code",
   "execution_count": 15,
   "id": "9d400d8a-a166-4aa2-9682-fdc1cc547b2a",
   "metadata": {},
   "outputs": [
    {
     "data": {
      "text/plain": [
       "<Axes: ylabel='Experience'>"
      ]
     },
     "execution_count": 15,
     "metadata": {},
     "output_type": "execute_result"
    },
    {
     "data": {
      "image/png": "[encoded data removed]",
      "text/plain": [
       "<Figure size 640x480 with 1 Axes>"
      ]
     },
     "metadata": {},
     "output_type": "display_data"
    }
   ],
   "source": [
    "sns.boxplot(mydata['Experience'])"
   ]
  },
  {
   "cell_type": "code",
   "execution_count": 16,
   "id": "36838301-5385-469d-bf87-7d60ef35edee",
   "metadata": {},
   "outputs": [
    {
     "name": "stdout",
     "output_type": "stream",
     "text": [
      "37.97560975609756 14.766666666666667\n"
     ]
    }
   ],
   "source": [
    "#finding the means of age and exp\n",
    "age_mean=np.mean(mydata['Age'])\n",
    "exp_mean=np.mean(mydata['Experience'])\n",
    "print(age_mean,exp_mean)\n"
   ]
  },
  {
   "cell_type": "code",
   "execution_count": 17,
   "id": "5caf5a24-240f-480b-869f-d1b1b71910e5",
   "metadata": {},
   "outputs": [],
   "source": [
    "mydata['Age']=mydata['Age'].fillna(age_mean)\n",
    "mydata['Experience']=mydata['Experience'].fillna(exp_mean)"
   ]
  },
  {
   "cell_type": "code",
   "execution_count": 18,
   "id": "9f30c099-0141-4dab-bcab-e64ccac55970",
   "metadata": {},
   "outputs": [
    {
     "data": {
      "text/plain": [
       "Employee Id    0\n",
       "First Name     0\n",
       "Last Name      0\n",
       "Department     0\n",
       "Age            0\n",
       "Experience     0\n",
       "Salary         0\n",
       "dtype: int64"
      ]
     },
     "execution_count": 18,
     "metadata": {},
     "output_type": "execute_result"
    }
   ],
   "source": [
    "mydata.isnull().sum()"
   ]
  },
  {
   "cell_type": "code",
   "execution_count": 19,
   "id": "68db7959-c469-4164-996b-e34a1aa2e842",
   "metadata": {},
   "outputs": [],
   "source": [
    "# visualizations\n",
    "dep=mydata['Department'].value_counts()"
   ]
  },
  {
   "cell_type": "code",
   "execution_count": 20,
   "id": "a642c132-64e7-41f3-bc14-26b6df44273b",
   "metadata": {},
   "outputs": [
    {
     "data": {
      "text/plain": [
       "Department\n",
       "Sales and Marketing    49\n",
       "Accounting             27\n",
       "Customer Relations     24\n",
       "Name: count, dtype: int64"
      ]
     },
     "execution_count": 20,
     "metadata": {},
     "output_type": "execute_result"
    }
   ],
   "source": [
    "dep"
   ]
  },
  {
   "cell_type": "code",
   "execution_count": 28,
   "id": "7e54a6e8-5e3f-4a29-8dc4-a4cecb9eff08",
   "metadata": {},
   "outputs": [
    {
     "data": {
      "text/plain": [
       "([<matplotlib.patches.Wedge at 0x1ae259934d0>,\n",
       "  <matplotlib.patches.Wedge at 0x1ae25998c90>,\n",
       "  <matplotlib.patches.Wedge at 0x1ae2599a390>],\n",
       " [Text(0.03455180204558485, 1.0994572174374968, 'Sales and Marketing'),\n",
       "  Text(-0.7778173864806728, -0.777817532129725, 'Accounting'),\n",
       "  Text(0.8018655733548674, -0.7530017279317957, 'Customer Relations')],\n",
       " [Text(0.018846437479409915, 0.5997039367840891, '49.00%'),\n",
       "  Text(-0.4242640289894578, -0.42426410843439544, '27.00%'),\n",
       "  Text(0.4373812218299276, -0.41072821523552483, '24.00%')])"
      ]
     },
     "execution_count": 28,
     "metadata": {},
     "output_type": "execute_result"
    },
    {
     "data": {
      "image/png": "[encoded data removed]",
      "text/plain": [
       "<Figure size 640x480 with 1 Axes>"
      ]
     },
     "metadata": {},
     "output_type": "display_data"
    }
   ],
   "source": [
    "plt.pie(dep,labels=['Sales and Marketing','Accounting','Customer Relations'],autopct='%0.2f%%',colors=['g','c','y'])"
   ]
  },
  {
   "cell_type": "code",
   "execution_count": 21,
   "id": "e22d294d-5945-4ef3-b0c8-19cafa456c80",
   "metadata": {},
   "outputs": [
    {
     "data": {
      "text/plain": [
       "<Axes: xlabel='Age', ylabel='Experience'>"
      ]
     },
     "execution_count": 21,
     "metadata": {},
     "output_type": "execute_result"
    },
    {
     "data": {
      "image/png": "[encoded data removed]",
      "text/plain": [
       "<Figure size 640x480 with 1 Axes>"
      ]
     },
     "metadata": {},
     "output_type": "display_data"
    }
   ],
   "source": [
    "sns.scatterplot(data=mydata,x='Age',y='Experience')"
   ]
  },
  {
   "cell_type": "code",
   "execution_count": 22,
   "id": "edc54569-1ffa-47a4-b6df-727c8b1e3a26",
   "metadata": {},
   "outputs": [
    {
     "data": {
      "text/plain": [
       "<Axes: xlabel='Age', ylabel='Salary'>"
      ]
     },
     "execution_count": 22,
     "metadata": {},
     "output_type": "execute_result"
    },
    {
     "data": {
      "image/png": "[encoded data removed]",
      "text/plain": [
       "<Figure size 640x480 with 1 Axes>"
      ]
     },
     "metadata": {},
     "output_type": "display_data"
    }
   ],
   "source": [
    "sns.scatterplot(data=mydata,x='Age',y='Salary')"
   ]
  },
  {
   "cell_type": "code",
   "execution_count": 23,
   "id": "5b685471-1766-475a-ac6f-9da4062801e6",
   "metadata": {},
   "outputs": [
    {
     "data": {
      "text/plain": [
       "<Axes: xlabel='Experience', ylabel='Salary'>"
      ]
     },
     "execution_count": 23,
     "metadata": {},
     "output_type": "execute_result"
    },
    {
     "data": {
      "image/png": "[encoded data removed]",
      "text/plain": [
       "<Figure size 640x480 with 1 Axes>"
      ]
     },
     "metadata": {},
     "output_type": "display_data"
    }
   ],
   "source": [
    "sns.scatterplot(data=mydata,x='Experience',y='Salary')"
   ]
  },
  {
   "cell_type": "code",
   "execution_count": 24,
   "id": "5fe04594-02a7-4024-8173-e0e595313ead",
   "metadata": {},
   "outputs": [
    {
     "data": {
      "text/plain": [
       "<seaborn.axisgrid.FacetGrid at 0x1d01bd079d0>"
      ]
     },
     "execution_count": 24,
     "metadata": {},
     "output_type": "execute_result"
    },
    {
     "data": {
      "image/png": "[encoded data removed]",
      "text/plain": [
       "<Figure size 511.111x500 with 1 Axes>"
      ]
     },
     "metadata": {},
     "output_type": "display_data"
    }
   ],
   "source": [
    "sns.catplot(data=mydata,x='Department',kind='count')"
   ]
  },
  {
   "cell_type": "code",
   "execution_count": 25,
   "id": "3b0fc5b1-4578-44b8-97c5-4a31677ccaf8",
   "metadata": {},
   "outputs": [
    {
     "data": {
      "text/plain": [
       "<seaborn.axisgrid.FacetGrid at 0x1d01bd6cd90>"
      ]
     },
     "execution_count": 25,
     "metadata": {},
     "output_type": "execute_result"
    },
    {
     "data": {
      "image/png": "[encoded data removed]",
      "text/plain": [
       "<Figure size 691.375x500 with 1 Axes>"
      ]
     },
     "metadata": {},
     "output_type": "display_data"
    }
   ],
   "source": [
    "sns.displot(data=mydata,x='Experience',kind='kde',hue='Department')"
   ]
  },
  {
   "cell_type": "code",
   "execution_count": 26,
   "id": "03974564-94d5-4128-af5a-d69474e47fa8",
   "metadata": {},
   "outputs": [
    {
     "data": {
      "text/plain": [
       "<seaborn.axisgrid.FacetGrid at 0x1d01b64d390>"
      ]
     },
     "execution_count": 26,
     "metadata": {},
     "output_type": "execute_result"
    },
    {
     "data": {
      "image/png": "[encoded data removed]",
      "text/plain": [
       "<Figure size 1500x500 with 3 Axes>"
      ]
     },
     "metadata": {},
     "output_type": "display_data"
    }
   ],
   "source": [
    "sns.displot(data=mydata,x='Experience',kind='kde',col='Department')"
   ]
  },
  {
   "cell_type": "code",
   "execution_count": 29,
   "id": "58c8aabf-0479-48bb-8d17-3b934bb53397",
   "metadata": {},
   "outputs": [
    {
     "data": {
      "text/plain": [
       "<seaborn.axisgrid.FacetGrid at 0x1d01bd79e50>"
      ]
     },
     "execution_count": 29,
     "metadata": {},
     "output_type": "execute_result"
    },
    {
     "data": {
      "image/png": "[encoded data removed]",
      "text/plain": [
       "<Figure size 1500x500 with 3 Axes>"
      ]
     },
     "metadata": {},
     "output_type": "display_data"
    }
   ],
   "source": [
    "sns.displot(data=mydata,x='Salary',kind='kde',col='Department')"
   ]
  },
  {
   "cell_type": "code",
   "execution_count": 28,
   "id": "17a6662a-bd63-4b90-a708-a44a3555604a",
   "metadata": {},
   "outputs": [],
   "source": [
    "# Label Encoding for categorical columns :\n",
    "# Department\n",
    "# 1.One hot encoder :\n",
    "# we get as many columns as many categories are there\n",
    "# 2.Label encoding :\n",
    "# one column will be replaced by other column but having no values"
   ]
  },
  {
   "cell_type": "code",
   "execution_count": 32,
   "id": "eaa919f7-639c-452b-b073-afb66ce0d47e",
   "metadata": {},
   "outputs": [],
   "source": [
    "# one hot encoder :\n",
    "df_onehot=pd.get_dummies(mydata['Department'],dtype='int')"
   ]
  },
  {
   "cell_type": "code",
   "execution_count": 33,
   "id": "d6632c63-7da3-4bbf-9279-fdf8c700f387",
   "metadata": {},
   "outputs": [
    {
     "data": {
      "text/html": [
       "<div>\n",
       "<style scoped>\n",
       "    .dataframe tbody tr th:only-of-type {\n",
       "        vertical-align: middle;\n",
       "    }\n",
       "\n",
       "    .dataframe tbody tr th {\n",
       "        vertical-align: top;\n",
       "    }\n",
       "\n",
       "    .dataframe thead th {\n",
       "        text-align: right;\n",
       "    }\n",
       "</style>\n",
       "<table border=\"1\" class=\"dataframe\">\n",
       "  <thead>\n",
       "    <tr style=\"text-align: right;\">\n",
       "      <th></th>\n",
       "      <th>Accounting</th>\n",
       "      <th>Customer Relations</th>\n",
       "      <th>Sales and Marketing</th>\n",
       "    </tr>\n",
       "  </thead>\n",
       "  <tbody>\n",
       "    <tr>\n",
       "      <th>0</th>\n",
       "      <td>0</td>\n",
       "      <td>0</td>\n",
       "      <td>1</td>\n",
       "    </tr>\n",
       "    <tr>\n",
       "      <th>1</th>\n",
       "      <td>0</td>\n",
       "      <td>0</td>\n",
       "      <td>1</td>\n",
       "    </tr>\n",
       "    <tr>\n",
       "      <th>2</th>\n",
       "      <td>0</td>\n",
       "      <td>1</td>\n",
       "      <td>0</td>\n",
       "    </tr>\n",
       "    <tr>\n",
       "      <th>3</th>\n",
       "      <td>0</td>\n",
       "      <td>1</td>\n",
       "      <td>0</td>\n",
       "    </tr>\n",
       "    <tr>\n",
       "      <th>4</th>\n",
       "      <td>1</td>\n",
       "      <td>0</td>\n",
       "      <td>0</td>\n",
       "    </tr>\n",
       "    <tr>\n",
       "      <th>...</th>\n",
       "      <td>...</td>\n",
       "      <td>...</td>\n",
       "      <td>...</td>\n",
       "    </tr>\n",
       "    <tr>\n",
       "      <th>95</th>\n",
       "      <td>0</td>\n",
       "      <td>0</td>\n",
       "      <td>1</td>\n",
       "    </tr>\n",
       "    <tr>\n",
       "      <th>96</th>\n",
       "      <td>0</td>\n",
       "      <td>0</td>\n",
       "      <td>1</td>\n",
       "    </tr>\n",
       "    <tr>\n",
       "      <th>97</th>\n",
       "      <td>0</td>\n",
       "      <td>1</td>\n",
       "      <td>0</td>\n",
       "    </tr>\n",
       "    <tr>\n",
       "      <th>98</th>\n",
       "      <td>0</td>\n",
       "      <td>1</td>\n",
       "      <td>0</td>\n",
       "    </tr>\n",
       "    <tr>\n",
       "      <th>99</th>\n",
       "      <td>1</td>\n",
       "      <td>0</td>\n",
       "      <td>0</td>\n",
       "    </tr>\n",
       "  </tbody>\n",
       "</table>\n",
       "<p>100 rows × 3 columns</p>\n",
       "</div>"
      ],
      "text/plain": [
       "    Accounting  Customer Relations  Sales and Marketing\n",
       "0            0                   0                    1\n",
       "1            0                   0                    1\n",
       "2            0                   1                    0\n",
       "3            0                   1                    0\n",
       "4            1                   0                    0\n",
       "..         ...                 ...                  ...\n",
       "95           0                   0                    1\n",
       "96           0                   0                    1\n",
       "97           0                   1                    0\n",
       "98           0                   1                    0\n",
       "99           1                   0                    0\n",
       "\n",
       "[100 rows x 3 columns]"
      ]
     },
     "execution_count": 33,
     "metadata": {},
     "output_type": "execute_result"
    }
   ],
   "source": [
    "df_onehot"
   ]
  },
  {
   "cell_type": "code",
   "execution_count": 39,
   "id": "bd6b8af5-b107-461d-9885-63843c4cfe0a",
   "metadata": {},
   "outputs": [],
   "source": [
    "#pip install scikitlearn"
   ]
  },
  {
   "cell_type": "code",
   "execution_count": 34,
   "id": "03df5dac-b285-4b5a-88fa-3e95bbe5bd8c",
   "metadata": {},
   "outputs": [],
   "source": [
    "# Label Encoder\n",
    "# sklearn\n",
    "from sklearn.preprocessing import LabelEncoder\n",
    "le=LabelEncoder()\n",
    "mydata['Department']=le.fit_transform(mydata['Department'])"
   ]
  },
  {
   "cell_type": "code",
   "execution_count": 35,
   "id": "db0d3d17-d125-4d0a-8c52-8720c87367bb",
   "metadata": {},
   "outputs": [
    {
     "data": {
      "text/plain": [
       "0     2\n",
       "1     2\n",
       "2     1\n",
       "3     1\n",
       "4     0\n",
       "     ..\n",
       "95    2\n",
       "96    2\n",
       "97    1\n",
       "98    1\n",
       "99    0\n",
       "Name: Department, Length: 100, dtype: int32"
      ]
     },
     "execution_count": 35,
     "metadata": {},
     "output_type": "execute_result"
    }
   ],
   "source": [
    "mydata['Department']"
   ]
  },
  {
   "cell_type": "code",
   "execution_count": 36,
   "id": "0e4d0666-b7ea-4293-8690-651d8537096e",
   "metadata": {},
   "outputs": [
    {
     "data": {
      "text/html": [
       "<div>\n",
       "<style scoped>\n",
       "    .dataframe tbody tr th:only-of-type {\n",
       "        vertical-align: middle;\n",
       "    }\n",
       "\n",
       "    .dataframe tbody tr th {\n",
       "        vertical-align: top;\n",
       "    }\n",
       "\n",
       "    .dataframe thead th {\n",
       "        text-align: right;\n",
       "    }\n",
       "</style>\n",
       "<table border=\"1\" class=\"dataframe\">\n",
       "  <thead>\n",
       "    <tr style=\"text-align: right;\">\n",
       "      <th></th>\n",
       "      <th>Employee Id</th>\n",
       "      <th>First Name</th>\n",
       "      <th>Last Name</th>\n",
       "      <th>Department</th>\n",
       "      <th>Age</th>\n",
       "      <th>Experience</th>\n",
       "      <th>Salary</th>\n",
       "    </tr>\n",
       "  </thead>\n",
       "  <tbody>\n",
       "    <tr>\n",
       "      <th>0</th>\n",
       "      <td>1</td>\n",
       "      <td>Joy</td>\n",
       "      <td>Bass</td>\n",
       "      <td>2</td>\n",
       "      <td>28.0</td>\n",
       "      <td>3.0</td>\n",
       "      <td>32889</td>\n",
       "    </tr>\n",
       "    <tr>\n",
       "      <th>1</th>\n",
       "      <td>2</td>\n",
       "      <td>Sheila</td>\n",
       "      <td>Garza</td>\n",
       "      <td>2</td>\n",
       "      <td>22.0</td>\n",
       "      <td>1.0</td>\n",
       "      <td>15944</td>\n",
       "    </tr>\n",
       "    <tr>\n",
       "      <th>2</th>\n",
       "      <td>3</td>\n",
       "      <td>John</td>\n",
       "      <td>Bryant</td>\n",
       "      <td>1</td>\n",
       "      <td>22.0</td>\n",
       "      <td>1.0</td>\n",
       "      <td>40343</td>\n",
       "    </tr>\n",
       "    <tr>\n",
       "      <th>3</th>\n",
       "      <td>4</td>\n",
       "      <td>Christian</td>\n",
       "      <td>Farley</td>\n",
       "      <td>1</td>\n",
       "      <td>22.0</td>\n",
       "      <td>1.0</td>\n",
       "      <td>19018</td>\n",
       "    </tr>\n",
       "    <tr>\n",
       "      <th>4</th>\n",
       "      <td>5</td>\n",
       "      <td>Colorado</td>\n",
       "      <td>Bowen</td>\n",
       "      <td>0</td>\n",
       "      <td>27.0</td>\n",
       "      <td>0.0</td>\n",
       "      <td>24795</td>\n",
       "    </tr>\n",
       "  </tbody>\n",
       "</table>\n",
       "</div>"
      ],
      "text/plain": [
       "   Employee Id First Name Last Name  Department   Age  Experience  Salary\n",
       "0            1        Joy      Bass           2  28.0         3.0   32889\n",
       "1            2     Sheila     Garza           2  22.0         1.0   15944\n",
       "2            3       John    Bryant           1  22.0         1.0   40343\n",
       "3            4  Christian    Farley           1  22.0         1.0   19018\n",
       "4            5   Colorado     Bowen           0  27.0         0.0   24795"
      ]
     },
     "execution_count": 36,
     "metadata": {},
     "output_type": "execute_result"
    }
   ],
   "source": [
    "mydata.head()"
   ]
  },
  {
   "cell_type": "code",
   "execution_count": 37,
   "id": "5c6ef38b-95bc-41c8-af60-60dd52d6fd10",
   "metadata": {},
   "outputs": [],
   "source": [
    "onehotdata=pd.concat([mydata,df_onehot],axis=1)"
   ]
  },
  {
   "cell_type": "code",
   "execution_count": 38,
   "id": "fa5ce4bb-15b2-489c-accb-5f2dced34feb",
   "metadata": {},
   "outputs": [],
   "source": [
    "onehotdata.drop('Department',axis=1,inplace=True)"
   ]
  },
  {
   "cell_type": "code",
   "execution_count": 39,
   "id": "b3b3e433-f76d-4560-a7e3-01e2f9735148",
   "metadata": {},
   "outputs": [
    {
     "data": {
      "text/html": [
       "<div>\n",
       "<style scoped>\n",
       "    .dataframe tbody tr th:only-of-type {\n",
       "        vertical-align: middle;\n",
       "    }\n",
       "\n",
       "    .dataframe tbody tr th {\n",
       "        vertical-align: top;\n",
       "    }\n",
       "\n",
       "    .dataframe thead th {\n",
       "        text-align: right;\n",
       "    }\n",
       "</style>\n",
       "<table border=\"1\" class=\"dataframe\">\n",
       "  <thead>\n",
       "    <tr style=\"text-align: right;\">\n",
       "      <th></th>\n",
       "      <th>Employee Id</th>\n",
       "      <th>First Name</th>\n",
       "      <th>Last Name</th>\n",
       "      <th>Age</th>\n",
       "      <th>Experience</th>\n",
       "      <th>Salary</th>\n",
       "      <th>Accounting</th>\n",
       "      <th>Customer Relations</th>\n",
       "      <th>Sales and Marketing</th>\n",
       "    </tr>\n",
       "  </thead>\n",
       "  <tbody>\n",
       "    <tr>\n",
       "      <th>0</th>\n",
       "      <td>1</td>\n",
       "      <td>Joy</td>\n",
       "      <td>Bass</td>\n",
       "      <td>28.0</td>\n",
       "      <td>3.0</td>\n",
       "      <td>32889</td>\n",
       "      <td>0</td>\n",
       "      <td>0</td>\n",
       "      <td>1</td>\n",
       "    </tr>\n",
       "    <tr>\n",
       "      <th>1</th>\n",
       "      <td>2</td>\n",
       "      <td>Sheila</td>\n",
       "      <td>Garza</td>\n",
       "      <td>22.0</td>\n",
       "      <td>1.0</td>\n",
       "      <td>15944</td>\n",
       "      <td>0</td>\n",
       "      <td>0</td>\n",
       "      <td>1</td>\n",
       "    </tr>\n",
       "    <tr>\n",
       "      <th>2</th>\n",
       "      <td>3</td>\n",
       "      <td>John</td>\n",
       "      <td>Bryant</td>\n",
       "      <td>22.0</td>\n",
       "      <td>1.0</td>\n",
       "      <td>40343</td>\n",
       "      <td>0</td>\n",
       "      <td>1</td>\n",
       "      <td>0</td>\n",
       "    </tr>\n",
       "    <tr>\n",
       "      <th>3</th>\n",
       "      <td>4</td>\n",
       "      <td>Christian</td>\n",
       "      <td>Farley</td>\n",
       "      <td>22.0</td>\n",
       "      <td>1.0</td>\n",
       "      <td>19018</td>\n",
       "      <td>0</td>\n",
       "      <td>1</td>\n",
       "      <td>0</td>\n",
       "    </tr>\n",
       "    <tr>\n",
       "      <th>4</th>\n",
       "      <td>5</td>\n",
       "      <td>Colorado</td>\n",
       "      <td>Bowen</td>\n",
       "      <td>27.0</td>\n",
       "      <td>0.0</td>\n",
       "      <td>24795</td>\n",
       "      <td>1</td>\n",
       "      <td>0</td>\n",
       "      <td>0</td>\n",
       "    </tr>\n",
       "    <tr>\n",
       "      <th>...</th>\n",
       "      <td>...</td>\n",
       "      <td>...</td>\n",
       "      <td>...</td>\n",
       "      <td>...</td>\n",
       "      <td>...</td>\n",
       "      <td>...</td>\n",
       "      <td>...</td>\n",
       "      <td>...</td>\n",
       "      <td>...</td>\n",
       "    </tr>\n",
       "    <tr>\n",
       "      <th>95</th>\n",
       "      <td>96</td>\n",
       "      <td>Tyrone</td>\n",
       "      <td>Barber</td>\n",
       "      <td>47.0</td>\n",
       "      <td>22.0</td>\n",
       "      <td>79077</td>\n",
       "      <td>0</td>\n",
       "      <td>0</td>\n",
       "      <td>1</td>\n",
       "    </tr>\n",
       "    <tr>\n",
       "      <th>96</th>\n",
       "      <td>97</td>\n",
       "      <td>Urielle</td>\n",
       "      <td>Herrera</td>\n",
       "      <td>46.0</td>\n",
       "      <td>20.0</td>\n",
       "      <td>81187</td>\n",
       "      <td>0</td>\n",
       "      <td>0</td>\n",
       "      <td>1</td>\n",
       "    </tr>\n",
       "    <tr>\n",
       "      <th>97</th>\n",
       "      <td>98</td>\n",
       "      <td>Brendan</td>\n",
       "      <td>Solis</td>\n",
       "      <td>44.0</td>\n",
       "      <td>18.0</td>\n",
       "      <td>83847</td>\n",
       "      <td>0</td>\n",
       "      <td>1</td>\n",
       "      <td>0</td>\n",
       "    </tr>\n",
       "    <tr>\n",
       "      <th>98</th>\n",
       "      <td>99</td>\n",
       "      <td>Holmes</td>\n",
       "      <td>Nelson</td>\n",
       "      <td>47.0</td>\n",
       "      <td>22.0</td>\n",
       "      <td>89158</td>\n",
       "      <td>0</td>\n",
       "      <td>1</td>\n",
       "      <td>0</td>\n",
       "    </tr>\n",
       "    <tr>\n",
       "      <th>99</th>\n",
       "      <td>100</td>\n",
       "      <td>Avye</td>\n",
       "      <td>Davidson</td>\n",
       "      <td>44.0</td>\n",
       "      <td>21.0</td>\n",
       "      <td>91645</td>\n",
       "      <td>1</td>\n",
       "      <td>0</td>\n",
       "      <td>0</td>\n",
       "    </tr>\n",
       "  </tbody>\n",
       "</table>\n",
       "<p>100 rows × 9 columns</p>\n",
       "</div>"
      ],
      "text/plain": [
       "    Employee Id First Name Last Name   Age  Experience  Salary  Accounting  \\\n",
       "0             1        Joy      Bass  28.0         3.0   32889           0   \n",
       "1             2     Sheila     Garza  22.0         1.0   15944           0   \n",
       "2             3       John    Bryant  22.0         1.0   40343           0   \n",
       "3             4  Christian    Farley  22.0         1.0   19018           0   \n",
       "4             5   Colorado     Bowen  27.0         0.0   24795           1   \n",
       "..          ...        ...       ...   ...         ...     ...         ...   \n",
       "95           96     Tyrone    Barber  47.0        22.0   79077           0   \n",
       "96           97    Urielle   Herrera  46.0        20.0   81187           0   \n",
       "97           98    Brendan     Solis  44.0        18.0   83847           0   \n",
       "98           99     Holmes    Nelson  47.0        22.0   89158           0   \n",
       "99          100       Avye  Davidson  44.0        21.0   91645           1   \n",
       "\n",
       "    Customer Relations  Sales and Marketing  \n",
       "0                    0                    1  \n",
       "1                    0                    1  \n",
       "2                    1                    0  \n",
       "3                    1                    0  \n",
       "4                    0                    0  \n",
       "..                 ...                  ...  \n",
       "95                   0                    1  \n",
       "96                   0                    1  \n",
       "97                   1                    0  \n",
       "98                   1                    0  \n",
       "99                   0                    0  \n",
       "\n",
       "[100 rows x 9 columns]"
      ]
     },
     "execution_count": 39,
     "metadata": {},
     "output_type": "execute_result"
    }
   ],
   "source": [
    "onehotdata"
   ]
  },
  {
   "cell_type": "code",
   "execution_count": 40,
   "id": "ffd975fa-6871-486f-8c05-ffbe372e18f5",
   "metadata": {},
   "outputs": [],
   "source": [
    "\n",
    "### scaling :\n",
    "## scaling is done in order to bring all the numerical columns \n",
    "# on the same scale.\n",
    "# scaling will ensure us that same weightage is given to all the\n",
    "# columns so that no biasing will be there.\n",
    "# scaling can be done using two mwthods\n",
    "#1.Standardization\n",
    "#2.Min max Scaler\n",
    "# What is the diff beween Std and Min max scaler .\n",
    "#          Std  Scaler                        Min max Scaler\n",
    "# formula ==> x-xbar/sigma                    x-xmin/xmax-xmin\n",
    "#  xbar=mean, sigma=std deviation\n",
    "# converts data into std normal              the vavlues of col \n",
    "# dist where mean is 0 and std dev is 1      can vary from 0 to 1\n",
    "#  mean and std dev is used                  min and max is used\n",
    "#  not sensitive to outlier                  sensitive to outlier\n",
    "# "
   ]
  },
  {
   "cell_type": "code",
   "execution_count": 30,
   "id": "d1664cf1-a20d-41ca-8f5a-a674de4ca7cb",
   "metadata": {},
   "outputs": [],
   "source": [
    "# Standardization :\n",
    "from sklearn.preprocessing import StandardScaler\n"
   ]
  },
  {
   "cell_type": "code",
   "execution_count": 41,
   "id": "4736004d-097a-4e08-b6bc-7fa4e7bd0e02",
   "metadata": {},
   "outputs": [
    {
     "data": {
      "text/html": [
       "<div>\n",
       "<style scoped>\n",
       "    .dataframe tbody tr th:only-of-type {\n",
       "        vertical-align: middle;\n",
       "    }\n",
       "\n",
       "    .dataframe tbody tr th {\n",
       "        vertical-align: top;\n",
       "    }\n",
       "\n",
       "    .dataframe thead th {\n",
       "        text-align: right;\n",
       "    }\n",
       "</style>\n",
       "<table border=\"1\" class=\"dataframe\">\n",
       "  <thead>\n",
       "    <tr style=\"text-align: right;\">\n",
       "      <th></th>\n",
       "      <th>Employee Id</th>\n",
       "      <th>First Name</th>\n",
       "      <th>Last Name</th>\n",
       "      <th>Age</th>\n",
       "      <th>Experience</th>\n",
       "      <th>Salary</th>\n",
       "      <th>Accounting</th>\n",
       "      <th>Customer Relations</th>\n",
       "      <th>Sales and Marketing</th>\n",
       "    </tr>\n",
       "  </thead>\n",
       "  <tbody>\n",
       "    <tr>\n",
       "      <th>0</th>\n",
       "      <td>1</td>\n",
       "      <td>Joy</td>\n",
       "      <td>Bass</td>\n",
       "      <td>28.0</td>\n",
       "      <td>3.0</td>\n",
       "      <td>32889</td>\n",
       "      <td>0</td>\n",
       "      <td>0</td>\n",
       "      <td>1</td>\n",
       "    </tr>\n",
       "    <tr>\n",
       "      <th>1</th>\n",
       "      <td>2</td>\n",
       "      <td>Sheila</td>\n",
       "      <td>Garza</td>\n",
       "      <td>22.0</td>\n",
       "      <td>1.0</td>\n",
       "      <td>15944</td>\n",
       "      <td>0</td>\n",
       "      <td>0</td>\n",
       "      <td>1</td>\n",
       "    </tr>\n",
       "    <tr>\n",
       "      <th>2</th>\n",
       "      <td>3</td>\n",
       "      <td>John</td>\n",
       "      <td>Bryant</td>\n",
       "      <td>22.0</td>\n",
       "      <td>1.0</td>\n",
       "      <td>40343</td>\n",
       "      <td>0</td>\n",
       "      <td>1</td>\n",
       "      <td>0</td>\n",
       "    </tr>\n",
       "    <tr>\n",
       "      <th>3</th>\n",
       "      <td>4</td>\n",
       "      <td>Christian</td>\n",
       "      <td>Farley</td>\n",
       "      <td>22.0</td>\n",
       "      <td>1.0</td>\n",
       "      <td>19018</td>\n",
       "      <td>0</td>\n",
       "      <td>1</td>\n",
       "      <td>0</td>\n",
       "    </tr>\n",
       "    <tr>\n",
       "      <th>4</th>\n",
       "      <td>5</td>\n",
       "      <td>Colorado</td>\n",
       "      <td>Bowen</td>\n",
       "      <td>27.0</td>\n",
       "      <td>0.0</td>\n",
       "      <td>24795</td>\n",
       "      <td>1</td>\n",
       "      <td>0</td>\n",
       "      <td>0</td>\n",
       "    </tr>\n",
       "    <tr>\n",
       "      <th>...</th>\n",
       "      <td>...</td>\n",
       "      <td>...</td>\n",
       "      <td>...</td>\n",
       "      <td>...</td>\n",
       "      <td>...</td>\n",
       "      <td>...</td>\n",
       "      <td>...</td>\n",
       "      <td>...</td>\n",
       "      <td>...</td>\n",
       "    </tr>\n",
       "    <tr>\n",
       "      <th>95</th>\n",
       "      <td>96</td>\n",
       "      <td>Tyrone</td>\n",
       "      <td>Barber</td>\n",
       "      <td>47.0</td>\n",
       "      <td>22.0</td>\n",
       "      <td>79077</td>\n",
       "      <td>0</td>\n",
       "      <td>0</td>\n",
       "      <td>1</td>\n",
       "    </tr>\n",
       "    <tr>\n",
       "      <th>96</th>\n",
       "      <td>97</td>\n",
       "      <td>Urielle</td>\n",
       "      <td>Herrera</td>\n",
       "      <td>46.0</td>\n",
       "      <td>20.0</td>\n",
       "      <td>81187</td>\n",
       "      <td>0</td>\n",
       "      <td>0</td>\n",
       "      <td>1</td>\n",
       "    </tr>\n",
       "    <tr>\n",
       "      <th>97</th>\n",
       "      <td>98</td>\n",
       "      <td>Brendan</td>\n",
       "      <td>Solis</td>\n",
       "      <td>44.0</td>\n",
       "      <td>18.0</td>\n",
       "      <td>83847</td>\n",
       "      <td>0</td>\n",
       "      <td>1</td>\n",
       "      <td>0</td>\n",
       "    </tr>\n",
       "    <tr>\n",
       "      <th>98</th>\n",
       "      <td>99</td>\n",
       "      <td>Holmes</td>\n",
       "      <td>Nelson</td>\n",
       "      <td>47.0</td>\n",
       "      <td>22.0</td>\n",
       "      <td>89158</td>\n",
       "      <td>0</td>\n",
       "      <td>1</td>\n",
       "      <td>0</td>\n",
       "    </tr>\n",
       "    <tr>\n",
       "      <th>99</th>\n",
       "      <td>100</td>\n",
       "      <td>Avye</td>\n",
       "      <td>Davidson</td>\n",
       "      <td>44.0</td>\n",
       "      <td>21.0</td>\n",
       "      <td>91645</td>\n",
       "      <td>1</td>\n",
       "      <td>0</td>\n",
       "      <td>0</td>\n",
       "    </tr>\n",
       "  </tbody>\n",
       "</table>\n",
       "<p>100 rows × 9 columns</p>\n",
       "</div>"
      ],
      "text/plain": [
       "    Employee Id First Name Last Name   Age  Experience  Salary  Accounting  \\\n",
       "0             1        Joy      Bass  28.0         3.0   32889           0   \n",
       "1             2     Sheila     Garza  22.0         1.0   15944           0   \n",
       "2             3       John    Bryant  22.0         1.0   40343           0   \n",
       "3             4  Christian    Farley  22.0         1.0   19018           0   \n",
       "4             5   Colorado     Bowen  27.0         0.0   24795           1   \n",
       "..          ...        ...       ...   ...         ...     ...         ...   \n",
       "95           96     Tyrone    Barber  47.0        22.0   79077           0   \n",
       "96           97    Urielle   Herrera  46.0        20.0   81187           0   \n",
       "97           98    Brendan     Solis  44.0        18.0   83847           0   \n",
       "98           99     Holmes    Nelson  47.0        22.0   89158           0   \n",
       "99          100       Avye  Davidson  44.0        21.0   91645           1   \n",
       "\n",
       "    Customer Relations  Sales and Marketing  \n",
       "0                    0                    1  \n",
       "1                    0                    1  \n",
       "2                    1                    0  \n",
       "3                    1                    0  \n",
       "4                    0                    0  \n",
       "..                 ...                  ...  \n",
       "95                   0                    1  \n",
       "96                   0                    1  \n",
       "97                   1                    0  \n",
       "98                   1                    0  \n",
       "99                   0                    0  \n",
       "\n",
       "[100 rows x 9 columns]"
      ]
     },
     "execution_count": 41,
     "metadata": {},
     "output_type": "execute_result"
    }
   ],
   "source": [
    "onehotdata"
   ]
  },
  {
   "cell_type": "code",
   "execution_count": 43,
   "id": "775807bc-b5c2-44d8-aec5-e05d57ccd6a1",
   "metadata": {},
   "outputs": [
    {
     "data": {
      "text/html": [
       "<div>\n",
       "<style scoped>\n",
       "    .dataframe tbody tr th:only-of-type {\n",
       "        vertical-align: middle;\n",
       "    }\n",
       "\n",
       "    .dataframe tbody tr th {\n",
       "        vertical-align: top;\n",
       "    }\n",
       "\n",
       "    .dataframe thead th {\n",
       "        text-align: right;\n",
       "    }\n",
       "</style>\n",
       "<table border=\"1\" class=\"dataframe\">\n",
       "  <thead>\n",
       "    <tr style=\"text-align: right;\">\n",
       "      <th></th>\n",
       "      <th>Age</th>\n",
       "      <th>Experience</th>\n",
       "      <th>Salary</th>\n",
       "      <th>Accounting</th>\n",
       "      <th>Customer Relations</th>\n",
       "      <th>Sales and Marketing</th>\n",
       "    </tr>\n",
       "  </thead>\n",
       "  <tbody>\n",
       "    <tr>\n",
       "      <th>0</th>\n",
       "      <td>28.0</td>\n",
       "      <td>3.0</td>\n",
       "      <td>32889</td>\n",
       "      <td>0</td>\n",
       "      <td>0</td>\n",
       "      <td>1</td>\n",
       "    </tr>\n",
       "    <tr>\n",
       "      <th>1</th>\n",
       "      <td>22.0</td>\n",
       "      <td>1.0</td>\n",
       "      <td>15944</td>\n",
       "      <td>0</td>\n",
       "      <td>0</td>\n",
       "      <td>1</td>\n",
       "    </tr>\n",
       "    <tr>\n",
       "      <th>2</th>\n",
       "      <td>22.0</td>\n",
       "      <td>1.0</td>\n",
       "      <td>40343</td>\n",
       "      <td>0</td>\n",
       "      <td>1</td>\n",
       "      <td>0</td>\n",
       "    </tr>\n",
       "    <tr>\n",
       "      <th>3</th>\n",
       "      <td>22.0</td>\n",
       "      <td>1.0</td>\n",
       "      <td>19018</td>\n",
       "      <td>0</td>\n",
       "      <td>1</td>\n",
       "      <td>0</td>\n",
       "    </tr>\n",
       "    <tr>\n",
       "      <th>4</th>\n",
       "      <td>27.0</td>\n",
       "      <td>0.0</td>\n",
       "      <td>24795</td>\n",
       "      <td>1</td>\n",
       "      <td>0</td>\n",
       "      <td>0</td>\n",
       "    </tr>\n",
       "  </tbody>\n",
       "</table>\n",
       "</div>"
      ],
      "text/plain": [
       "    Age  Experience  Salary  Accounting  Customer Relations  \\\n",
       "0  28.0         3.0   32889           0                   0   \n",
       "1  22.0         1.0   15944           0                   0   \n",
       "2  22.0         1.0   40343           0                   1   \n",
       "3  22.0         1.0   19018           0                   1   \n",
       "4  27.0         0.0   24795           1                   0   \n",
       "\n",
       "   Sales and Marketing  \n",
       "0                    1  \n",
       "1                    1  \n",
       "2                    0  \n",
       "3                    0  \n",
       "4                    0  "
      ]
     },
     "execution_count": 43,
     "metadata": {},
     "output_type": "execute_result"
    }
   ],
   "source": [
    "num_data=onehotdata.iloc[:,3:]\n",
    "num_data.head()"
   ]
  },
  {
   "cell_type": "code",
   "execution_count": 44,
   "id": "c1496f8a-46dc-4d7f-8f56-57f3d6486d6d",
   "metadata": {},
   "outputs": [],
   "source": [
    "# using Standardization\n",
    "from sklearn.preprocessing import StandardScaler\n",
    "sc=StandardScaler()\n",
    "x_scaled=sc.fit_transform(num_data)"
   ]
  },
  {
   "cell_type": "code",
   "execution_count": 45,
   "id": "64a988c7-0cbe-4eba-91e0-b448443dda74",
   "metadata": {},
   "outputs": [
    {
     "data": {
      "text/plain": [
       "array([[-1.16485118e+00, -1.81044925e+00, -1.23482325e+00,\n",
       "        -6.08163641e-01, -5.61951487e-01,  1.02020406e+00],\n",
       "       [-1.86547071e+00, -2.11817433e+00, -1.88508853e+00,\n",
       "        -6.08163641e-01, -5.61951487e-01,  1.02020406e+00],\n",
       "       [-1.86547071e+00, -2.11817433e+00, -9.48775604e-01,\n",
       "        -6.08163641e-01,  1.77951304e+00, -9.80196059e-01],\n",
       "       [-1.86547071e+00, -2.11817433e+00, -1.76712361e+00,\n",
       "        -6.08163641e-01,  1.77951304e+00, -9.80196059e-01],\n",
       "       [-1.28162110e+00, -2.27203688e+00, -1.54543093e+00,\n",
       "         1.64429429e+00, -5.61951487e-01, -9.80196059e-01],\n",
       "       [-1.39839102e+00, -1.50272416e+00, -1.90646343e+00,\n",
       "         1.64429429e+00, -5.61951487e-01, -9.80196059e-01],\n",
       "       [-1.63193087e+00, -1.34886162e+00, -1.18769869e+00,\n",
       "        -6.08163641e-01,  1.77951304e+00, -9.80196059e-01],\n",
       "       [-1.04808125e+00, -1.96431179e+00, -1.87914039e+00,\n",
       "        -6.08163641e-01,  1.77951304e+00, -9.80196059e-01],\n",
       "       [-1.04808125e+00, -1.50272416e+00, -8.81158761e-01,\n",
       "        -6.08163641e-01, -5.61951487e-01,  1.02020406e+00],\n",
       "       [-9.31311332e-01, -1.34886162e+00, -2.04062262e+00,\n",
       "        -6.08163641e-01,  1.77951304e+00, -9.80196059e-01],\n",
       "       [-1.39839102e+00, -1.50272416e+00, -1.16582491e+00,\n",
       "         1.64429429e+00, -5.61951487e-01, -9.80196059e-01],\n",
       "       [-1.39839102e+00, -1.34886162e+00, -1.59324625e+00,\n",
       "        -6.08163641e-01, -5.61951487e-01,  1.02020406e+00],\n",
       "       [-1.63193087e+00, -1.50272416e+00, -1.37984258e+00,\n",
       "         1.64429429e+00, -5.61951487e-01, -9.80196059e-01],\n",
       "       [-1.86547071e+00, -1.96431179e+00, -1.21387047e+00,\n",
       "         1.64429429e+00, -5.61951487e-01, -9.80196059e-01],\n",
       "       [-1.51516094e+00, -1.81044925e+00, -2.04296350e+00,\n",
       "        -6.08163641e-01, -5.61951487e-01,  1.02020406e+00],\n",
       "       [-1.51516094e+00,  2.73314780e-16, -8.05943657e-01,\n",
       "         1.64429429e+00, -5.61951487e-01, -9.80196059e-01],\n",
       "       [-1.86547071e+00,  2.73314780e-16, -1.98785692e+00,\n",
       "        -6.08163641e-01,  1.77951304e+00, -9.80196059e-01],\n",
       "       [-1.51516094e+00,  2.73314780e-16, -1.85872487e+00,\n",
       "         1.64429429e+00, -5.61951487e-01, -9.80196059e-01],\n",
       "       [-1.28162110e+00,  2.73314780e-16, -1.35006354e+00,\n",
       "         1.64429429e+00, -5.61951487e-01, -9.80196059e-01],\n",
       "       [-1.51516094e+00,  2.73314780e-16, -1.32788275e+00,\n",
       "        -6.08163641e-01, -5.61951487e-01,  1.02020406e+00],\n",
       "       [-1.86547071e+00,  2.73314780e-16, -1.92350195e+00,\n",
       "        -6.08163641e-01, -5.61951487e-01,  1.02020406e+00],\n",
       "       [-1.86547071e+00,  2.73314780e-16, -1.78193638e+00,\n",
       "        -6.08163641e-01, -5.61951487e-01,  1.02020406e+00],\n",
       "       [-1.63193087e+00,  2.73314780e-16, -1.03166572e+00,\n",
       "        -6.08163641e-01, -5.61951487e-01,  1.02020406e+00],\n",
       "       [-1.28162110e+00,  2.73314780e-16, -8.43244208e-01,\n",
       "        -6.08163641e-01, -5.61951487e-01,  1.02020406e+00],\n",
       "       [-1.86547071e+00,  2.73314780e-16, -1.47720009e+00,\n",
       "        -6.08163641e-01, -5.61951487e-01,  1.02020406e+00],\n",
       "       [-5.81001565e-01, -2.71823825e-01, -5.31063151e-01,\n",
       "        -6.08163641e-01, -5.61951487e-01,  1.02020406e+00],\n",
       "       [-2.30691798e-01, -1.19499908e+00, -2.74948046e-01,\n",
       "        -6.08163641e-01, -5.61951487e-01,  1.02020406e+00],\n",
       "       [-3.47461720e-01, -7.33411452e-01, -4.15746116e-01,\n",
       "        -6.08163641e-01, -5.61951487e-01,  1.02020406e+00],\n",
       "       [-5.81001565e-01, -4.25686367e-01,  1.89697098e-01,\n",
       "        -6.08163641e-01, -5.61951487e-01,  1.02020406e+00],\n",
       "       [-9.31311332e-01, -1.17961283e-01,  3.69023721e-01,\n",
       "        -6.08163641e-01, -5.61951487e-01,  1.02020406e+00],\n",
       "       [ 2.36387892e-01,  3.59012599e-02, -4.29791385e-01,\n",
       "        -6.08163641e-01, -5.61951487e-01,  1.02020406e+00],\n",
       "       [ 1.19617969e-01, -4.25686367e-01, -1.89947303e-01,\n",
       "        -6.08163641e-01, -5.61951487e-01,  1.02020406e+00],\n",
       "       [ 8.29700201e-16, -8.87273995e-01,  2.68174082e-01,\n",
       "        -6.08163641e-01, -5.61951487e-01,  1.02020406e+00],\n",
       "       [ 8.29700201e-16, -1.19499908e+00, -5.77688840e-01,\n",
       "        -6.08163641e-01, -5.61951487e-01,  1.02020406e+00],\n",
       "       [ 8.29700201e-16,  3.59012599e-02, -5.73659460e-01,\n",
       "        -6.08163641e-01, -5.61951487e-01,  1.02020406e+00],\n",
       "       [ 8.29700201e-16, -5.79548910e-01,  2.78266721e-01,\n",
       "        -6.08163641e-01, -5.61951487e-01,  1.02020406e+00],\n",
       "       [ 8.29700201e-16, -7.33411452e-01, -4.31288013e-01,\n",
       "        -6.08163641e-01, -5.61951487e-01,  1.02020406e+00],\n",
       "       [ 8.29700201e-16, -1.19499908e+00, -2.57295521e-01,\n",
       "        -6.08163641e-01, -5.61951487e-01,  1.02020406e+00],\n",
       "       [ 8.29700201e-16, -2.71823825e-01, -6.43073791e-02,\n",
       "        -6.08163641e-01, -5.61951487e-01,  1.02020406e+00],\n",
       "       [ 8.29700201e-16, -8.87273995e-01, -7.99644008e-02,\n",
       "        -6.08163641e-01, -5.61951487e-01,  1.02020406e+00],\n",
       "       [ 8.29700201e-16, -1.04113654e+00,  3.34722564e-02,\n",
       "        -6.08163641e-01,  1.77951304e+00, -9.80196059e-01],\n",
       "       [ 8.29700201e-16, -4.25686367e-01, -5.12374500e-01,\n",
       "         1.64429429e+00, -5.61951487e-01, -9.80196059e-01],\n",
       "       [ 8.29700201e-16, -8.87273995e-01, -4.15093740e-01,\n",
       "         1.64429429e+00, -5.61951487e-01, -9.80196059e-01],\n",
       "       [ 8.29700201e-16, -4.25686367e-01, -5.60458441e-01,\n",
       "        -6.08163641e-01, -5.61951487e-01,  1.02020406e+00],\n",
       "       [ 8.29700201e-16,  3.59012599e-02, -2.48961995e-02,\n",
       "        -6.08163641e-01, -5.61951487e-01,  1.02020406e+00],\n",
       "       [ 8.29700201e-16, -1.17961283e-01, -1.88143676e-01,\n",
       "        -6.08163641e-01,  1.77951304e+00, -9.80196059e-01],\n",
       "       [ 8.29700201e-16, -7.33411452e-01,  5.60751627e-02,\n",
       "        -6.08163641e-01, -5.61951487e-01,  1.02020406e+00],\n",
       "       [ 8.29700201e-16, -1.04113654e+00, -2.98894079e-01,\n",
       "        -6.08163641e-01,  1.77951304e+00, -9.80196059e-01],\n",
       "       [ 8.29700201e-16, -4.25686367e-01,  2.50982058e-01,\n",
       "        -6.08163641e-01,  1.77951304e+00, -9.80196059e-01],\n",
       "       [ 8.29700201e-16,  3.59012599e-02, -1.47542869e-01,\n",
       "        -6.08163641e-01,  1.77951304e+00, -9.80196059e-01],\n",
       "       [ 2.84804689e-03, -1.17961283e-01,  1.27452762e-01,\n",
       "        -6.08163641e-01, -5.61951487e-01,  1.02020406e+00],\n",
       "       [ 3.53157814e-01,  1.57452668e+00,  1.13733066e+00,\n",
       "         1.64429429e+00, -5.61951487e-01, -9.80196059e-01],\n",
       "       [ 7.03467581e-01,  3.43626345e-01,  9.37358259e-01,\n",
       "        -6.08163641e-01,  1.77951304e+00, -9.80196059e-01],\n",
       "       [ 3.53157814e-01,  3.43626345e-01,  1.12221089e+00,\n",
       "         1.64429429e+00, -5.61951487e-01, -9.80196059e-01],\n",
       "       [ 1.40408712e+00,  9.59076515e-01,  6.35039590e-01,\n",
       "        -6.08163641e-01, -5.61951487e-01,  1.02020406e+00],\n",
       "       [ 1.05377735e+00,  6.51351430e-01,  7.38306858e-01,\n",
       "        -6.08163641e-01, -5.61951487e-01,  1.02020406e+00],\n",
       "       [ 5.86697659e-01,  1.57452668e+00,  4.75284243e-01,\n",
       "         1.64429429e+00, -5.61951487e-01, -9.80196059e-01],\n",
       "       [ 1.17054727e+00,  1.57452668e+00,  4.54254714e-01,\n",
       "        -6.08163641e-01,  1.77951304e+00, -9.80196059e-01],\n",
       "       [ 9.37007426e-01,  1.11293906e+00,  9.87437703e-01,\n",
       "         1.64429429e+00, -5.61951487e-01, -9.80196059e-01],\n",
       "       [ 7.03467581e-01,  1.89763802e-01,  8.13330087e-01,\n",
       "        -6.08163641e-01,  1.77951304e+00, -9.80196059e-01],\n",
       "       [ 4.69927736e-01,  9.59076515e-01,  5.09054290e-01,\n",
       "         1.64429429e+00, -5.61951487e-01, -9.80196059e-01],\n",
       "       [ 7.03467581e-01,  6.51351430e-01,  7.60372513e-01,\n",
       "        -6.08163641e-01, -5.61951487e-01,  1.02020406e+00],\n",
       "       [ 1.28731719e+00,  1.89763802e-01,  4.39825694e-01,\n",
       "        -6.08163641e-01,  1.77951304e+00, -9.80196059e-01],\n",
       "       [ 7.03467581e-01,  4.97488887e-01,  7.08297566e-01,\n",
       "        -6.08163641e-01,  1.77951304e+00, -9.80196059e-01],\n",
       "       [ 1.28731719e+00,  1.11293906e+00,  9.28340121e-01,\n",
       "        -6.08163641e-01, -5.61951487e-01,  1.02020406e+00],\n",
       "       [ 7.03467581e-01,  3.43626345e-01,  3.97728261e-01,\n",
       "         1.64429429e+00, -5.61951487e-01, -9.80196059e-01],\n",
       "       [ 1.17054727e+00,  1.89763802e-01,  1.02857576e+00,\n",
       "        -6.08163641e-01, -5.61951487e-01,  1.02020406e+00],\n",
       "       [ 1.05377735e+00,  1.26680160e+00,  4.46733204e-01,\n",
       "        -6.08163641e-01,  1.77951304e+00, -9.80196059e-01],\n",
       "       [ 1.40408712e+00,  1.11293906e+00,  1.15720894e+00,\n",
       "        -6.08163641e-01,  1.77951304e+00, -9.80196059e-01],\n",
       "       [ 4.69927736e-01,  6.51351430e-01,  9.87591203e-01,\n",
       "        -6.08163641e-01, -5.61951487e-01,  1.02020406e+00],\n",
       "       [ 1.17054727e+00,  6.51351430e-01,  8.13944088e-01,\n",
       "         1.64429429e+00, -5.61951487e-01, -9.80196059e-01],\n",
       "       [ 9.37007426e-01,  1.42066414e+00,  4.70602487e-01,\n",
       "        -6.08163641e-01,  1.77951304e+00, -9.80196059e-01],\n",
       "       [ 4.69927736e-01,  1.26680160e+00,  7.75914410e-01,\n",
       "        -6.08163641e-01, -5.61951487e-01,  1.02020406e+00],\n",
       "       [ 8.20237504e-01,  1.11293906e+00,  9.92503210e-01,\n",
       "        -6.08163641e-01, -5.61951487e-01,  1.02020406e+00],\n",
       "       [ 1.17054727e+00,  3.43626345e-01,  9.12030724e-01,\n",
       "        -6.08163641e-01,  1.77951304e+00, -9.80196059e-01],\n",
       "       [ 3.53157814e-01,  1.26680160e+00,  1.18353422e+00,\n",
       "        -6.08163641e-01, -5.61951487e-01,  1.02020406e+00],\n",
       "       [ 1.28731719e+00,  6.51351430e-01,  1.04757141e+00,\n",
       "        -6.08163641e-01, -5.61951487e-01,  1.02020406e+00],\n",
       "       [ 3.53157814e-01,  1.11293906e+00,  1.10471187e+00,\n",
       "        -6.08163641e-01, -5.61951487e-01,  1.02020406e+00],\n",
       "       [ 4.69927736e-01,  1.42066414e+00,  7.77833163e-01,\n",
       "        -6.08163641e-01, -5.61951487e-01,  1.02020406e+00],\n",
       "       [ 3.53157814e-01,  1.11293906e+00,  5.69149623e-01,\n",
       "         1.64429429e+00, -5.61951487e-01, -9.80196059e-01],\n",
       "       [ 8.20237504e-01,  9.59076515e-01,  7.53733629e-01,\n",
       "         1.64429429e+00, -5.61951487e-01, -9.80196059e-01],\n",
       "       [ 5.86697659e-01,  1.89763802e-01,  8.94685199e-01,\n",
       "        -6.08163641e-01,  1.77951304e+00, -9.80196059e-01],\n",
       "       [ 9.37007426e-01,  4.97488887e-01,  1.07984483e+00,\n",
       "         1.64429429e+00, -5.61951487e-01, -9.80196059e-01],\n",
       "       [ 1.05377735e+00,  8.05213972e-01,  1.02569763e+00,\n",
       "        -6.08163641e-01, -5.61951487e-01,  1.02020406e+00],\n",
       "       [ 8.20237504e-01,  3.43626345e-01,  1.20364275e+00,\n",
       "         1.64429429e+00, -5.61951487e-01, -9.80196059e-01],\n",
       "       [ 4.69927736e-01,  3.43626345e-01,  6.99701554e-01,\n",
       "        -6.08163641e-01, -5.61951487e-01,  1.02020406e+00],\n",
       "       [ 7.03467581e-01,  9.59076515e-01,  1.14017041e+00,\n",
       "        -6.08163641e-01, -5.61951487e-01,  1.02020406e+00],\n",
       "       [ 8.20237504e-01,  6.51351430e-01,  6.60674125e-01,\n",
       "         1.64429429e+00, -5.61951487e-01, -9.80196059e-01],\n",
       "       [ 7.03467581e-01,  9.59076515e-01,  1.22758879e+00,\n",
       "         1.64429429e+00, -5.61951487e-01, -9.80196059e-01],\n",
       "       [ 1.05377735e+00,  8.05213972e-01,  8.66786536e-01,\n",
       "        -6.08163641e-01,  1.77951304e+00, -9.80196059e-01],\n",
       "       [ 7.03467581e-01,  6.51351430e-01,  9.52017529e-01,\n",
       "        -6.08163641e-01, -5.61951487e-01,  1.02020406e+00],\n",
       "       [ 7.03467581e-01,  4.97488887e-01,  1.27072235e+00,\n",
       "         1.64429429e+00, -5.61951487e-01, -9.80196059e-01],\n",
       "       [ 3.53157814e-01,  3.43626345e-01,  7.33663476e-01,\n",
       "        -6.08163641e-01, -5.61951487e-01,  1.02020406e+00],\n",
       "       [ 1.17054727e+00,  9.59076515e-01,  5.54221728e-01,\n",
       "         1.64429429e+00, -5.61951487e-01, -9.80196059e-01],\n",
       "       [ 1.17054727e+00,  1.11293906e+00,  1.26343109e+00,\n",
       "         1.64429429e+00, -5.61951487e-01, -9.80196059e-01],\n",
       "       [ 1.05377735e+00,  1.11293906e+00,  5.37643705e-01,\n",
       "        -6.08163641e-01, -5.61951487e-01,  1.02020406e+00],\n",
       "       [ 9.37007426e-01,  8.05213972e-01,  6.18615067e-01,\n",
       "        -6.08163641e-01, -5.61951487e-01,  1.02020406e+00],\n",
       "       [ 7.03467581e-01,  4.97488887e-01,  7.20692708e-01,\n",
       "        -6.08163641e-01,  1.77951304e+00, -9.80196059e-01],\n",
       "       [ 1.05377735e+00,  1.11293906e+00,  9.24502616e-01,\n",
       "        -6.08163641e-01,  1.77951304e+00, -9.80196059e-01],\n",
       "       [ 7.03467581e-01,  9.59076515e-01,  1.01994137e+00,\n",
       "         1.64429429e+00, -5.61951487e-01, -9.80196059e-01]])"
      ]
     },
     "execution_count": 45,
     "metadata": {},
     "output_type": "execute_result"
    }
   ],
   "source": [
    "x_scaled"
   ]
  },
  {
   "cell_type": "code",
   "execution_count": 46,
   "id": "23a2ff1a-db78-4e52-a237-b50d2eaa1c68",
   "metadata": {},
   "outputs": [],
   "source": [
    "# Min Max Scaler\n",
    "from sklearn.preprocessing import MinMaxScaler\n",
    "sc=MinMaxScaler()\n",
    "x_scaled=sc.fit_transform(num_data)"
   ]
  },
  {
   "cell_type": "code",
   "execution_count": 47,
   "id": "b2b8f1c4-19e5-4502-a2e8-c23acb76831a",
   "metadata": {},
   "outputs": [
    {
     "data": {
      "text/plain": [
       "array([[2.14285714e-01, 1.20000000e-01, 2.43879560e-01, 0.00000000e+00,\n",
       "        0.00000000e+00, 1.00000000e+00],\n",
       "       [0.00000000e+00, 4.00000000e-02, 4.76433121e-02, 0.00000000e+00,\n",
       "        0.00000000e+00, 1.00000000e+00],\n",
       "       [0.00000000e+00, 4.00000000e-02, 3.30202664e-01, 0.00000000e+00,\n",
       "        1.00000000e+00, 0.00000000e+00],\n",
       "       [0.00000000e+00, 4.00000000e-02, 8.32426173e-02, 0.00000000e+00,\n",
       "        1.00000000e+00, 0.00000000e+00],\n",
       "       [1.78571429e-01, 0.00000000e+00, 1.50144760e-01, 1.00000000e+00,\n",
       "        0.00000000e+00, 0.00000000e+00],\n",
       "       [1.42857143e-01, 2.00000000e-01, 4.11928199e-02, 1.00000000e+00,\n",
       "        0.00000000e+00, 0.00000000e+00],\n",
       "       [7.14285714e-02, 2.40000000e-01, 2.58100753e-01, 0.00000000e+00,\n",
       "        1.00000000e+00, 0.00000000e+00],\n",
       "       [2.50000000e-01, 8.00000000e-02, 4.94383324e-02, 0.00000000e+00,\n",
       "        1.00000000e+00, 0.00000000e+00],\n",
       "       [2.50000000e-01, 2.00000000e-01, 3.50607991e-01, 0.00000000e+00,\n",
       "        0.00000000e+00, 1.00000000e+00],\n",
       "       [2.85714286e-01, 2.40000000e-01, 7.06427331e-04, 0.00000000e+00,\n",
       "        1.00000000e+00, 0.00000000e+00],\n",
       "       [1.42857143e-01, 2.00000000e-01, 2.64701795e-01, 1.00000000e+00,\n",
       "        0.00000000e+00, 0.00000000e+00],\n",
       "       [1.42857143e-01, 2.40000000e-01, 1.35715113e-01, 0.00000000e+00,\n",
       "        0.00000000e+00, 1.00000000e+00],\n",
       "       [7.14285714e-02, 2.00000000e-01, 2.00115808e-01, 1.00000000e+00,\n",
       "        0.00000000e+00, 0.00000000e+00],\n",
       "       [0.00000000e+00, 8.00000000e-02, 2.50202664e-01, 1.00000000e+00,\n",
       "        0.00000000e+00, 0.00000000e+00],\n",
       "       [1.07142857e-01, 1.20000000e-01, 0.00000000e+00, 0.00000000e+00,\n",
       "        0.00000000e+00, 1.00000000e+00],\n",
       "       [1.07142857e-01, 5.90666667e-01, 3.73306312e-01, 1.00000000e+00,\n",
       "        0.00000000e+00, 0.00000000e+00],\n",
       "       [0.00000000e+00, 5.90666667e-01, 1.66299942e-02, 0.00000000e+00,\n",
       "        1.00000000e+00, 0.00000000e+00],\n",
       "       [1.07142857e-01, 5.90666667e-01, 5.55993052e-02, 1.00000000e+00,\n",
       "        0.00000000e+00, 0.00000000e+00],\n",
       "       [1.78571429e-01, 5.90666667e-01, 2.09102490e-01, 1.00000000e+00,\n",
       "        0.00000000e+00, 0.00000000e+00],\n",
       "       [1.07142857e-01, 5.90666667e-01, 2.15796178e-01, 0.00000000e+00,\n",
       "        0.00000000e+00, 1.00000000e+00],\n",
       "       [0.00000000e+00, 5.90666667e-01, 3.60509554e-02, 0.00000000e+00,\n",
       "        0.00000000e+00, 1.00000000e+00],\n",
       "       [0.00000000e+00, 5.90666667e-01, 7.87724378e-02, 0.00000000e+00,\n",
       "        0.00000000e+00, 1.00000000e+00],\n",
       "       [7.14285714e-02, 5.90666667e-01, 3.05188188e-01, 0.00000000e+00,\n",
       "        0.00000000e+00, 1.00000000e+00],\n",
       "       [1.78571429e-01, 5.90666667e-01, 3.62049797e-01, 0.00000000e+00,\n",
       "        0.00000000e+00, 1.00000000e+00],\n",
       "       [0.00000000e+00, 5.90666667e-01, 1.70735379e-01, 0.00000000e+00,\n",
       "        0.00000000e+00, 1.00000000e+00],\n",
       "       [3.92857143e-01, 5.20000000e-01, 4.56259409e-01, 0.00000000e+00,\n",
       "        0.00000000e+00, 1.00000000e+00],\n",
       "       [5.00000000e-01, 2.80000000e-01, 5.33549508e-01, 0.00000000e+00,\n",
       "        0.00000000e+00, 1.00000000e+00],\n",
       "       [4.64285714e-01, 4.00000000e-01, 4.91059641e-01, 0.00000000e+00,\n",
       "        0.00000000e+00, 1.00000000e+00],\n",
       "       [3.92857143e-01, 4.80000000e-01, 6.73769543e-01, 0.00000000e+00,\n",
       "        0.00000000e+00, 1.00000000e+00],\n",
       "       [2.85714286e-01, 5.60000000e-01, 7.27886508e-01, 0.00000000e+00,\n",
       "        0.00000000e+00, 1.00000000e+00],\n",
       "       [6.42857143e-01, 6.00000000e-01, 4.86821077e-01, 0.00000000e+00,\n",
       "        0.00000000e+00, 1.00000000e+00],\n",
       "       [6.07142857e-01, 4.80000000e-01, 5.59200926e-01, 0.00000000e+00,\n",
       "        0.00000000e+00, 1.00000000e+00],\n",
       "       [5.70557491e-01, 3.60000000e-01, 6.97452229e-01, 0.00000000e+00,\n",
       "        0.00000000e+00, 1.00000000e+00],\n",
       "       [5.70557491e-01, 2.80000000e-01, 4.42188767e-01, 0.00000000e+00,\n",
       "        0.00000000e+00, 1.00000000e+00],\n",
       "       [5.70557491e-01, 6.00000000e-01, 4.43404748e-01, 0.00000000e+00,\n",
       "        0.00000000e+00, 1.00000000e+00],\n",
       "       [5.70557491e-01, 4.40000000e-01, 7.00497973e-01, 0.00000000e+00,\n",
       "        0.00000000e+00, 1.00000000e+00],\n",
       "       [5.70557491e-01, 4.00000000e-01, 4.86369427e-01, 0.00000000e+00,\n",
       "        0.00000000e+00, 1.00000000e+00],\n",
       "       [5.70557491e-01, 2.80000000e-01, 5.38876665e-01, 0.00000000e+00,\n",
       "        0.00000000e+00, 1.00000000e+00],\n",
       "       [5.70557491e-01, 5.20000000e-01, 5.97116387e-01, 0.00000000e+00,\n",
       "        0.00000000e+00, 1.00000000e+00],\n",
       "       [5.70557491e-01, 3.60000000e-01, 5.92391430e-01, 0.00000000e+00,\n",
       "        0.00000000e+00, 1.00000000e+00],\n",
       "       [5.70557491e-01, 3.20000000e-01, 6.26624204e-01, 0.00000000e+00,\n",
       "        1.00000000e+00, 0.00000000e+00],\n",
       "       [5.70557491e-01, 4.80000000e-01, 4.61899247e-01, 1.00000000e+00,\n",
       "        0.00000000e+00, 0.00000000e+00],\n",
       "       [5.70557491e-01, 3.60000000e-01, 4.91256514e-01, 1.00000000e+00,\n",
       "        0.00000000e+00, 0.00000000e+00],\n",
       "       [5.70557491e-01, 4.80000000e-01, 4.47388535e-01, 0.00000000e+00,\n",
       "        0.00000000e+00, 1.00000000e+00],\n",
       "       [5.70557491e-01, 6.00000000e-01, 6.09009844e-01, 0.00000000e+00,\n",
       "        0.00000000e+00, 1.00000000e+00],\n",
       "       [5.70557491e-01, 5.60000000e-01, 5.59745223e-01, 0.00000000e+00,\n",
       "        1.00000000e+00, 0.00000000e+00],\n",
       "       [5.70557491e-01, 4.00000000e-01, 6.33445281e-01, 0.00000000e+00,\n",
       "        0.00000000e+00, 1.00000000e+00],\n",
       "       [5.70557491e-01, 3.20000000e-01, 5.26323104e-01, 0.00000000e+00,\n",
       "        1.00000000e+00, 0.00000000e+00],\n",
       "       [5.70557491e-01, 4.80000000e-01, 6.92264042e-01, 0.00000000e+00,\n",
       "        1.00000000e+00, 0.00000000e+00],\n",
       "       [5.70557491e-01, 6.00000000e-01, 5.71997684e-01, 0.00000000e+00,\n",
       "        1.00000000e+00, 0.00000000e+00],\n",
       "       [5.71428571e-01, 5.60000000e-01, 6.54985524e-01, 0.00000000e+00,\n",
       "        0.00000000e+00, 1.00000000e+00],\n",
       "       [6.78571429e-01, 1.00000000e+00, 9.59745223e-01, 1.00000000e+00,\n",
       "        0.00000000e+00, 0.00000000e+00],\n",
       "       [7.85714286e-01, 6.80000000e-01, 8.99397800e-01, 0.00000000e+00,\n",
       "        1.00000000e+00, 0.00000000e+00],\n",
       "       [6.78571429e-01, 6.80000000e-01, 9.55182397e-01, 1.00000000e+00,\n",
       "        0.00000000e+00, 0.00000000e+00],\n",
       "       [1.00000000e+00, 8.40000000e-01, 8.08164447e-01, 0.00000000e+00,\n",
       "        0.00000000e+00, 1.00000000e+00],\n",
       "       [8.92857143e-01, 7.60000000e-01, 8.39328315e-01, 0.00000000e+00,\n",
       "        0.00000000e+00, 1.00000000e+00],\n",
       "       [7.50000000e-01, 1.00000000e+00, 7.59953677e-01, 1.00000000e+00,\n",
       "        0.00000000e+00, 0.00000000e+00],\n",
       "       [9.28571429e-01, 1.00000000e+00, 7.53607412e-01, 0.00000000e+00,\n",
       "        1.00000000e+00, 0.00000000e+00],\n",
       "       [8.57142857e-01, 8.80000000e-01, 9.14510712e-01, 1.00000000e+00,\n",
       "        0.00000000e+00, 0.00000000e+00],\n",
       "       [7.85714286e-01, 6.40000000e-01, 8.61968732e-01, 0.00000000e+00,\n",
       "        1.00000000e+00, 0.00000000e+00],\n",
       "       [7.14285714e-01, 8.40000000e-01, 7.70144760e-01, 1.00000000e+00,\n",
       "        0.00000000e+00, 0.00000000e+00],\n",
       "       [7.85714286e-01, 7.60000000e-01, 8.45987261e-01, 0.00000000e+00,\n",
       "        0.00000000e+00, 1.00000000e+00],\n",
       "       [9.64285714e-01, 6.40000000e-01, 7.49253040e-01, 0.00000000e+00,\n",
       "        1.00000000e+00, 0.00000000e+00],\n",
       "       [7.85714286e-01, 7.20000000e-01, 8.30272148e-01, 0.00000000e+00,\n",
       "        1.00000000e+00, 0.00000000e+00],\n",
       "       [9.64285714e-01, 8.80000000e-01, 8.96676317e-01, 0.00000000e+00,\n",
       "        0.00000000e+00, 1.00000000e+00],\n",
       "       [7.85714286e-01, 6.80000000e-01, 7.36548929e-01, 1.00000000e+00,\n",
       "        0.00000000e+00, 0.00000000e+00],\n",
       "       [9.28571429e-01, 6.40000000e-01, 9.26925304e-01, 0.00000000e+00,\n",
       "        0.00000000e+00, 1.00000000e+00],\n",
       "       [8.92857143e-01, 9.20000000e-01, 7.51337580e-01, 0.00000000e+00,\n",
       "        1.00000000e+00, 0.00000000e+00],\n",
       "       [1.00000000e+00, 8.80000000e-01, 9.65744065e-01, 0.00000000e+00,\n",
       "        1.00000000e+00, 0.00000000e+00],\n",
       "       [7.14285714e-01, 7.60000000e-01, 9.14557035e-01, 0.00000000e+00,\n",
       "        0.00000000e+00, 1.00000000e+00],\n",
       "       [9.28571429e-01, 7.60000000e-01, 8.62154024e-01, 1.00000000e+00,\n",
       "        0.00000000e+00, 0.00000000e+00],\n",
       "       [8.57142857e-01, 9.60000000e-01, 7.58540822e-01, 0.00000000e+00,\n",
       "        1.00000000e+00, 0.00000000e+00],\n",
       "       [7.14285714e-01, 9.20000000e-01, 8.50677475e-01, 0.00000000e+00,\n",
       "        0.00000000e+00, 1.00000000e+00],\n",
       "       [8.21428571e-01, 8.80000000e-01, 9.16039375e-01, 0.00000000e+00,\n",
       "        0.00000000e+00, 1.00000000e+00],\n",
       "       [9.28571429e-01, 6.80000000e-01, 8.91754488e-01, 0.00000000e+00,\n",
       "        1.00000000e+00, 0.00000000e+00],\n",
       "       [6.78571429e-01, 9.20000000e-01, 9.73688477e-01, 0.00000000e+00,\n",
       "        0.00000000e+00, 1.00000000e+00],\n",
       "       [9.64285714e-01, 7.60000000e-01, 9.32657788e-01, 0.00000000e+00,\n",
       "        0.00000000e+00, 1.00000000e+00],\n",
       "       [6.78571429e-01, 8.80000000e-01, 9.49901563e-01, 0.00000000e+00,\n",
       "        0.00000000e+00, 1.00000000e+00],\n",
       "       [7.14285714e-01, 9.60000000e-01, 8.51256514e-01, 0.00000000e+00,\n",
       "        0.00000000e+00, 1.00000000e+00],\n",
       "       [6.78571429e-01, 8.80000000e-01, 7.88280255e-01, 1.00000000e+00,\n",
       "        0.00000000e+00, 0.00000000e+00],\n",
       "       [8.21428571e-01, 8.40000000e-01, 8.43983787e-01, 1.00000000e+00,\n",
       "        0.00000000e+00, 0.00000000e+00],\n",
       "       [7.50000000e-01, 6.40000000e-01, 8.86519977e-01, 0.00000000e+00,\n",
       "        1.00000000e+00, 0.00000000e+00],\n",
       "       [8.57142857e-01, 7.20000000e-01, 9.42397221e-01, 1.00000000e+00,\n",
       "        0.00000000e+00, 0.00000000e+00],\n",
       "       [8.92857143e-01, 8.00000000e-01, 9.26056746e-01, 0.00000000e+00,\n",
       "        0.00000000e+00, 1.00000000e+00],\n",
       "       [8.21428571e-01, 6.80000000e-01, 9.79756804e-01, 1.00000000e+00,\n",
       "        0.00000000e+00, 0.00000000e+00],\n",
       "       [7.14285714e-01, 6.80000000e-01, 8.27678054e-01, 0.00000000e+00,\n",
       "        0.00000000e+00, 1.00000000e+00],\n",
       "       [7.85714286e-01, 8.40000000e-01, 9.60602200e-01, 0.00000000e+00,\n",
       "        0.00000000e+00, 1.00000000e+00],\n",
       "       [8.21428571e-01, 7.60000000e-01, 8.15900405e-01, 1.00000000e+00,\n",
       "        0.00000000e+00, 0.00000000e+00],\n",
       "       [7.85714286e-01, 8.40000000e-01, 9.86983208e-01, 1.00000000e+00,\n",
       "        0.00000000e+00, 0.00000000e+00],\n",
       "       [8.92857143e-01, 8.00000000e-01, 8.78100753e-01, 0.00000000e+00,\n",
       "        1.00000000e+00, 0.00000000e+00],\n",
       "       [7.85714286e-01, 7.60000000e-01, 9.03821656e-01, 0.00000000e+00,\n",
       "        0.00000000e+00, 1.00000000e+00],\n",
       "       [7.85714286e-01, 7.20000000e-01, 1.00000000e+00, 1.00000000e+00,\n",
       "        0.00000000e+00, 0.00000000e+00],\n",
       "       [6.78571429e-01, 6.80000000e-01, 8.37927041e-01, 0.00000000e+00,\n",
       "        0.00000000e+00, 1.00000000e+00],\n",
       "       [9.28571429e-01, 8.40000000e-01, 7.83775333e-01, 1.00000000e+00,\n",
       "        0.00000000e+00, 0.00000000e+00],\n",
       "       [9.28571429e-01, 8.80000000e-01, 9.97799653e-01, 1.00000000e+00,\n",
       "        0.00000000e+00, 0.00000000e+00],\n",
       "       [8.92857143e-01, 8.80000000e-01, 7.78772438e-01, 0.00000000e+00,\n",
       "        0.00000000e+00, 1.00000000e+00],\n",
       "       [8.57142857e-01, 8.00000000e-01, 8.03207875e-01, 0.00000000e+00,\n",
       "        0.00000000e+00, 1.00000000e+00],\n",
       "       [7.85714286e-01, 7.20000000e-01, 8.34012739e-01, 0.00000000e+00,\n",
       "        1.00000000e+00, 0.00000000e+00],\n",
       "       [8.92857143e-01, 8.80000000e-01, 8.95518240e-01, 0.00000000e+00,\n",
       "        1.00000000e+00, 0.00000000e+00],\n",
       "       [7.85714286e-01, 8.40000000e-01, 9.24319629e-01, 1.00000000e+00,\n",
       "        0.00000000e+00, 0.00000000e+00]])"
      ]
     },
     "execution_count": 47,
     "metadata": {},
     "output_type": "execute_result"
    }
   ],
   "source": [
    "x_scaled"
   ]
  },
  {
   "cell_type": "code",
   "execution_count": 48,
   "id": "7bbbac84-ec9e-484d-980c-05eb84b1e9d8",
   "metadata": {},
   "outputs": [
    {
     "data": {
      "text/plain": [
       "array([[2.80000000e+01, 3.00000000e+00, 3.28890000e+04, 0.00000000e+00,\n",
       "        0.00000000e+00, 1.00000000e+00],\n",
       "       [2.20000000e+01, 1.00000000e+00, 1.59440000e+04, 0.00000000e+00,\n",
       "        0.00000000e+00, 1.00000000e+00],\n",
       "       [2.20000000e+01, 1.00000000e+00, 4.03430000e+04, 0.00000000e+00,\n",
       "        1.00000000e+00, 0.00000000e+00],\n",
       "       [2.20000000e+01, 1.00000000e+00, 1.90180000e+04, 0.00000000e+00,\n",
       "        1.00000000e+00, 0.00000000e+00],\n",
       "       [2.70000000e+01, 0.00000000e+00, 2.47950000e+04, 1.00000000e+00,\n",
       "        0.00000000e+00, 0.00000000e+00],\n",
       "       [2.60000000e+01, 5.00000000e+00, 1.53870000e+04, 1.00000000e+00,\n",
       "        0.00000000e+00, 0.00000000e+00],\n",
       "       [2.40000000e+01, 6.00000000e+00, 3.41170000e+04, 0.00000000e+00,\n",
       "        1.00000000e+00, 0.00000000e+00],\n",
       "       [2.90000000e+01, 2.00000000e+00, 1.60990000e+04, 0.00000000e+00,\n",
       "        1.00000000e+00, 0.00000000e+00],\n",
       "       [2.90000000e+01, 5.00000000e+00, 4.21050000e+04, 0.00000000e+00,\n",
       "        0.00000000e+00, 1.00000000e+00],\n",
       "       [3.00000000e+01, 6.00000000e+00, 1.18910000e+04, 0.00000000e+00,\n",
       "        1.00000000e+00, 0.00000000e+00],\n",
       "       [2.60000000e+01, 5.00000000e+00, 3.46870000e+04, 1.00000000e+00,\n",
       "        0.00000000e+00, 0.00000000e+00],\n",
       "       [2.60000000e+01, 6.00000000e+00, 2.35490000e+04, 0.00000000e+00,\n",
       "        0.00000000e+00, 1.00000000e+00],\n",
       "       [2.40000000e+01, 5.00000000e+00, 2.91100000e+04, 1.00000000e+00,\n",
       "        0.00000000e+00, 0.00000000e+00],\n",
       "       [2.20000000e+01, 2.00000000e+00, 3.34350000e+04, 1.00000000e+00,\n",
       "        0.00000000e+00, 0.00000000e+00],\n",
       "       [2.50000000e+01, 3.00000000e+00, 1.18300000e+04, 0.00000000e+00,\n",
       "        0.00000000e+00, 1.00000000e+00],\n",
       "       [2.50000000e+01, 1.47666667e+01, 4.40650000e+04, 1.00000000e+00,\n",
       "        0.00000000e+00, 0.00000000e+00],\n",
       "       [2.20000000e+01, 1.47666667e+01, 1.32660000e+04, 0.00000000e+00,\n",
       "        1.00000000e+00, 0.00000000e+00],\n",
       "       [2.50000000e+01, 1.47666667e+01, 1.66310000e+04, 1.00000000e+00,\n",
       "        0.00000000e+00, 0.00000000e+00],\n",
       "       [2.70000000e+01, 1.47666667e+01, 2.98860000e+04, 1.00000000e+00,\n",
       "        0.00000000e+00, 0.00000000e+00],\n",
       "       [2.50000000e+01, 1.47666667e+01, 3.04640000e+04, 0.00000000e+00,\n",
       "        0.00000000e+00, 1.00000000e+00],\n",
       "       [2.20000000e+01, 1.47666667e+01, 1.49430000e+04, 0.00000000e+00,\n",
       "        0.00000000e+00, 1.00000000e+00],\n",
       "       [2.20000000e+01, 1.47666667e+01, 1.86320000e+04, 0.00000000e+00,\n",
       "        0.00000000e+00, 1.00000000e+00],\n",
       "       [2.40000000e+01, 1.47666667e+01, 3.81830000e+04, 0.00000000e+00,\n",
       "        0.00000000e+00, 1.00000000e+00],\n",
       "       [2.70000000e+01, 1.47666667e+01, 4.30930000e+04, 0.00000000e+00,\n",
       "        0.00000000e+00, 1.00000000e+00],\n",
       "       [2.20000000e+01, 1.47666667e+01, 2.65730000e+04, 0.00000000e+00,\n",
       "        0.00000000e+00, 1.00000000e+00],\n",
       "       [3.30000000e+01, 1.30000000e+01, 5.12280000e+04, 0.00000000e+00,\n",
       "        0.00000000e+00, 1.00000000e+00],\n",
       "       [3.60000000e+01, 7.00000000e+00, 5.79020000e+04, 0.00000000e+00,\n",
       "        0.00000000e+00, 1.00000000e+00],\n",
       "       [3.50000000e+01, 1.00000000e+01, 5.42330000e+04, 0.00000000e+00,\n",
       "        0.00000000e+00, 1.00000000e+00],\n",
       "       [3.30000000e+01, 1.20000000e+01, 7.00100000e+04, 0.00000000e+00,\n",
       "        0.00000000e+00, 1.00000000e+00],\n",
       "       [3.00000000e+01, 1.40000000e+01, 7.46830000e+04, 0.00000000e+00,\n",
       "        0.00000000e+00, 1.00000000e+00],\n",
       "       [4.00000000e+01, 1.50000000e+01, 5.38670000e+04, 0.00000000e+00,\n",
       "        0.00000000e+00, 1.00000000e+00],\n",
       "       [3.90000000e+01, 1.20000000e+01, 6.01170000e+04, 0.00000000e+00,\n",
       "        0.00000000e+00, 1.00000000e+00],\n",
       "       [3.79756098e+01, 9.00000000e+00, 7.20550000e+04, 0.00000000e+00,\n",
       "        0.00000000e+00, 1.00000000e+00],\n",
       "       [3.79756098e+01, 7.00000000e+00, 5.00130000e+04, 0.00000000e+00,\n",
       "        0.00000000e+00, 1.00000000e+00],\n",
       "       [3.79756098e+01, 1.50000000e+01, 5.01180000e+04, 0.00000000e+00,\n",
       "        0.00000000e+00, 1.00000000e+00],\n",
       "       [3.79756098e+01, 1.10000000e+01, 7.23180000e+04, 0.00000000e+00,\n",
       "        0.00000000e+00, 1.00000000e+00],\n",
       "       [3.79756098e+01, 1.00000000e+01, 5.38280000e+04, 0.00000000e+00,\n",
       "        0.00000000e+00, 1.00000000e+00],\n",
       "       [3.79756098e+01, 7.00000000e+00, 5.83620000e+04, 0.00000000e+00,\n",
       "        0.00000000e+00, 1.00000000e+00],\n",
       "       [3.79756098e+01, 1.30000000e+01, 6.33910000e+04, 0.00000000e+00,\n",
       "        0.00000000e+00, 1.00000000e+00],\n",
       "       [3.79756098e+01, 9.00000000e+00, 6.29830000e+04, 0.00000000e+00,\n",
       "        0.00000000e+00, 1.00000000e+00],\n",
       "       [3.79756098e+01, 8.00000000e+00, 6.59390000e+04, 0.00000000e+00,\n",
       "        1.00000000e+00, 0.00000000e+00],\n",
       "       [3.79756098e+01, 1.20000000e+01, 5.17150000e+04, 1.00000000e+00,\n",
       "        0.00000000e+00, 0.00000000e+00],\n",
       "       [3.79756098e+01, 9.00000000e+00, 5.42500000e+04, 1.00000000e+00,\n",
       "        0.00000000e+00, 0.00000000e+00],\n",
       "       [3.79756098e+01, 1.20000000e+01, 5.04620000e+04, 0.00000000e+00,\n",
       "        0.00000000e+00, 1.00000000e+00],\n",
       "       [3.79756098e+01, 1.50000000e+01, 6.44180000e+04, 0.00000000e+00,\n",
       "        0.00000000e+00, 1.00000000e+00],\n",
       "       [3.79756098e+01, 1.40000000e+01, 6.01640000e+04, 0.00000000e+00,\n",
       "        1.00000000e+00, 0.00000000e+00],\n",
       "       [3.79756098e+01, 1.00000000e+01, 6.65280000e+04, 0.00000000e+00,\n",
       "        0.00000000e+00, 1.00000000e+00],\n",
       "       [3.79756098e+01, 8.00000000e+00, 5.72780000e+04, 0.00000000e+00,\n",
       "        1.00000000e+00, 0.00000000e+00],\n",
       "       [3.79756098e+01, 1.20000000e+01, 7.16070000e+04, 0.00000000e+00,\n",
       "        1.00000000e+00, 0.00000000e+00],\n",
       "       [3.79756098e+01, 1.50000000e+01, 6.12220000e+04, 0.00000000e+00,\n",
       "        1.00000000e+00, 0.00000000e+00],\n",
       "       [3.80000000e+01, 1.40000000e+01, 6.83880000e+04, 0.00000000e+00,\n",
       "        0.00000000e+00, 1.00000000e+00],\n",
       "       [4.10000000e+01, 2.50000000e+01, 9.47040000e+04, 1.00000000e+00,\n",
       "        0.00000000e+00, 0.00000000e+00],\n",
       "       [4.40000000e+01, 1.70000000e+01, 8.94930000e+04, 0.00000000e+00,\n",
       "        1.00000000e+00, 0.00000000e+00],\n",
       "       [4.10000000e+01, 1.70000000e+01, 9.43100000e+04, 1.00000000e+00,\n",
       "        0.00000000e+00, 0.00000000e+00],\n",
       "       [5.00000000e+01, 2.10000000e+01, 8.16150000e+04, 0.00000000e+00,\n",
       "        0.00000000e+00, 1.00000000e+00],\n",
       "       [4.70000000e+01, 1.90000000e+01, 8.43060000e+04, 0.00000000e+00,\n",
       "        0.00000000e+00, 1.00000000e+00],\n",
       "       [4.30000000e+01, 2.50000000e+01, 7.74520000e+04, 1.00000000e+00,\n",
       "        0.00000000e+00, 0.00000000e+00],\n",
       "       [4.80000000e+01, 2.50000000e+01, 7.69040000e+04, 0.00000000e+00,\n",
       "        1.00000000e+00, 0.00000000e+00],\n",
       "       [4.60000000e+01, 2.20000000e+01, 9.07980000e+04, 1.00000000e+00,\n",
       "        0.00000000e+00, 0.00000000e+00],\n",
       "       [4.40000000e+01, 1.60000000e+01, 8.62610000e+04, 0.00000000e+00,\n",
       "        1.00000000e+00, 0.00000000e+00],\n",
       "       [4.20000000e+01, 2.10000000e+01, 7.83320000e+04, 1.00000000e+00,\n",
       "        0.00000000e+00, 0.00000000e+00],\n",
       "       [4.40000000e+01, 1.90000000e+01, 8.48810000e+04, 0.00000000e+00,\n",
       "        0.00000000e+00, 1.00000000e+00],\n",
       "       [4.90000000e+01, 1.60000000e+01, 7.65280000e+04, 0.00000000e+00,\n",
       "        1.00000000e+00, 0.00000000e+00],\n",
       "       [4.40000000e+01, 1.80000000e+01, 8.35240000e+04, 0.00000000e+00,\n",
       "        1.00000000e+00, 0.00000000e+00],\n",
       "       [4.90000000e+01, 2.20000000e+01, 8.92580000e+04, 0.00000000e+00,\n",
       "        0.00000000e+00, 1.00000000e+00],\n",
       "       [4.40000000e+01, 1.70000000e+01, 7.54310000e+04, 1.00000000e+00,\n",
       "        0.00000000e+00, 0.00000000e+00],\n",
       "       [4.80000000e+01, 1.60000000e+01, 9.18700000e+04, 0.00000000e+00,\n",
       "        0.00000000e+00, 1.00000000e+00],\n",
       "       [4.70000000e+01, 2.30000000e+01, 7.67080000e+04, 0.00000000e+00,\n",
       "        1.00000000e+00, 0.00000000e+00],\n",
       "       [5.00000000e+01, 2.20000000e+01, 9.52220000e+04, 0.00000000e+00,\n",
       "        1.00000000e+00, 0.00000000e+00],\n",
       "       [4.20000000e+01, 1.90000000e+01, 9.08020000e+04, 0.00000000e+00,\n",
       "        0.00000000e+00, 1.00000000e+00],\n",
       "       [4.80000000e+01, 1.90000000e+01, 8.62770000e+04, 1.00000000e+00,\n",
       "        0.00000000e+00, 0.00000000e+00],\n",
       "       [4.60000000e+01, 2.40000000e+01, 7.73300000e+04, 0.00000000e+00,\n",
       "        1.00000000e+00, 0.00000000e+00],\n",
       "       [4.20000000e+01, 2.30000000e+01, 8.52860000e+04, 0.00000000e+00,\n",
       "        0.00000000e+00, 1.00000000e+00],\n",
       "       [4.50000000e+01, 2.20000000e+01, 9.09300000e+04, 0.00000000e+00,\n",
       "        0.00000000e+00, 1.00000000e+00],\n",
       "       [4.80000000e+01, 1.70000000e+01, 8.88330000e+04, 0.00000000e+00,\n",
       "        1.00000000e+00, 0.00000000e+00],\n",
       "       [4.10000000e+01, 2.30000000e+01, 9.59080000e+04, 0.00000000e+00,\n",
       "        0.00000000e+00, 1.00000000e+00],\n",
       "       [4.90000000e+01, 1.90000000e+01, 9.23650000e+04, 0.00000000e+00,\n",
       "        0.00000000e+00, 1.00000000e+00],\n",
       "       [4.10000000e+01, 2.20000000e+01, 9.38540000e+04, 0.00000000e+00,\n",
       "        0.00000000e+00, 1.00000000e+00],\n",
       "       [4.20000000e+01, 2.40000000e+01, 8.53360000e+04, 0.00000000e+00,\n",
       "        0.00000000e+00, 1.00000000e+00],\n",
       "       [4.10000000e+01, 2.20000000e+01, 7.98980000e+04, 1.00000000e+00,\n",
       "        0.00000000e+00, 0.00000000e+00],\n",
       "       [4.50000000e+01, 2.10000000e+01, 8.47080000e+04, 1.00000000e+00,\n",
       "        0.00000000e+00, 0.00000000e+00],\n",
       "       [4.30000000e+01, 1.60000000e+01, 8.83810000e+04, 0.00000000e+00,\n",
       "        1.00000000e+00, 0.00000000e+00],\n",
       "       [4.60000000e+01, 1.80000000e+01, 9.32060000e+04, 1.00000000e+00,\n",
       "        0.00000000e+00, 0.00000000e+00],\n",
       "       [4.70000000e+01, 2.00000000e+01, 9.17950000e+04, 0.00000000e+00,\n",
       "        0.00000000e+00, 1.00000000e+00],\n",
       "       [4.50000000e+01, 1.70000000e+01, 9.64320000e+04, 1.00000000e+00,\n",
       "        0.00000000e+00, 0.00000000e+00],\n",
       "       [4.20000000e+01, 1.70000000e+01, 8.33000000e+04, 0.00000000e+00,\n",
       "        0.00000000e+00, 1.00000000e+00],\n",
       "       [4.40000000e+01, 2.10000000e+01, 9.47780000e+04, 0.00000000e+00,\n",
       "        0.00000000e+00, 1.00000000e+00],\n",
       "       [4.50000000e+01, 1.90000000e+01, 8.22830000e+04, 1.00000000e+00,\n",
       "        0.00000000e+00, 0.00000000e+00],\n",
       "       [4.40000000e+01, 2.10000000e+01, 9.70560000e+04, 1.00000000e+00,\n",
       "        0.00000000e+00, 0.00000000e+00],\n",
       "       [4.70000000e+01, 2.00000000e+01, 8.76540000e+04, 0.00000000e+00,\n",
       "        1.00000000e+00, 0.00000000e+00],\n",
       "       [4.40000000e+01, 1.90000000e+01, 8.98750000e+04, 0.00000000e+00,\n",
       "        0.00000000e+00, 1.00000000e+00],\n",
       "       [4.40000000e+01, 1.80000000e+01, 9.81800000e+04, 1.00000000e+00,\n",
       "        0.00000000e+00, 0.00000000e+00],\n",
       "       [4.10000000e+01, 1.70000000e+01, 8.41850000e+04, 0.00000000e+00,\n",
       "        0.00000000e+00, 1.00000000e+00],\n",
       "       [4.80000000e+01, 2.10000000e+01, 7.95090000e+04, 1.00000000e+00,\n",
       "        0.00000000e+00, 0.00000000e+00],\n",
       "       [4.80000000e+01, 2.20000000e+01, 9.79900000e+04, 1.00000000e+00,\n",
       "        0.00000000e+00, 0.00000000e+00],\n",
       "       [4.70000000e+01, 2.20000000e+01, 7.90770000e+04, 0.00000000e+00,\n",
       "        0.00000000e+00, 1.00000000e+00],\n",
       "       [4.60000000e+01, 2.00000000e+01, 8.11870000e+04, 0.00000000e+00,\n",
       "        0.00000000e+00, 1.00000000e+00],\n",
       "       [4.40000000e+01, 1.80000000e+01, 8.38470000e+04, 0.00000000e+00,\n",
       "        1.00000000e+00, 0.00000000e+00],\n",
       "       [4.70000000e+01, 2.20000000e+01, 8.91580000e+04, 0.00000000e+00,\n",
       "        1.00000000e+00, 0.00000000e+00],\n",
       "       [4.40000000e+01, 2.10000000e+01, 9.16450000e+04, 1.00000000e+00,\n",
       "        0.00000000e+00, 0.00000000e+00]])"
      ]
     },
     "execution_count": 48,
     "metadata": {},
     "output_type": "execute_result"
    }
   ],
   "source": [
    "num_data.values"
   ]
  },
  {
   "cell_type": "code",
   "execution_count": null,
   "id": "a2925d97-9d12-4633-a682-904e72b7410d",
   "metadata": {},
   "outputs": [],
   "source": []
  },
  {
   "cell_type": "code",
   "execution_count": null,
   "id": "afba0f75-a28c-4a89-aada-c92af0545281",
   "metadata": {},
   "outputs": [],
   "source": []
  },
  {
   "cell_type": "code",
   "execution_count": null,
   "id": "5b7af049-41ee-48a5-badf-14a6fc7b2838",
   "metadata": {},
   "outputs": [],
   "source": []
  },
  {
   "cell_type": "code",
   "execution_count": null,
   "id": "fc5a8169-8bd5-4eed-ac28-89c4d89b7a1f",
   "metadata": {},
   "outputs": [],
   "source": []
  },
  {
   "cell_type": "code",
   "execution_count": null,
   "id": "38bbc3cd-6261-4de3-a1f5-b8d5b0035f54",
   "metadata": {},
   "outputs": [],
   "source": []
  },
  {
   "cell_type": "code",
   "execution_count": null,
   "id": "c3e66915-dafa-4f0b-acc9-244675bfd302",
   "metadata": {},
   "outputs": [],
   "source": []
  },
  {
   "cell_type": "code",
   "execution_count": null,
   "id": "a2d8037d-f5d2-43c6-b95e-bf1d66c6a767",
   "metadata": {},
   "outputs": [],
   "source": []
  },
  {
   "cell_type": "code",
   "execution_count": null,
   "id": "75a9585b-fe4d-45f7-8e24-f658f03f4e35",
   "metadata": {},
   "outputs": [],
   "source": []
  },
  {
   "cell_type": "code",
   "execution_count": null,
   "id": "6362856b-306f-495f-a2cb-a6cd8be37e2e",
   "metadata": {},
   "outputs": [],
   "source": []
  },
  {
   "cell_type": "code",
   "execution_count": null,
   "id": "286764d5-d483-4f01-9b2e-5c04d745754e",
   "metadata": {},
   "outputs": [],
   "source": []
  },
  {
   "cell_type": "code",
   "execution_count": null,
   "id": "62c343ea-d849-4c84-9138-4a4ba4920fc7",
   "metadata": {},
   "outputs": [],
   "source": []
  },
  {
   "cell_type": "code",
   "execution_count": null,
   "id": "3acd8e56-4e89-4986-bfec-3577a9712836",
   "metadata": {},
   "outputs": [],
   "source": []
  },
  {
   "cell_type": "code",
   "execution_count": null,
   "id": "520bbf92-5819-47e8-a4b5-9be073248742",
   "metadata": {},
   "outputs": [],
   "source": []
  },
  {
   "cell_type": "code",
   "execution_count": null,
   "id": "7292cfe4-1b47-4e46-87a2-21efac53cbd2",
   "metadata": {},
   "outputs": [],
   "source": []
  },
  {
   "cell_type": "code",
   "execution_count": null,
   "id": "d4fec836-576c-45f2-812f-53d2b8af03fe",
   "metadata": {},
   "outputs": [],
   "source": []
  },
  {
   "cell_type": "code",
   "execution_count": null,
   "id": "0e16b76a-9ccf-4945-b3ba-c15f5977a66c",
   "metadata": {},
   "outputs": [],
   "source": []
  },
  {
   "cell_type": "code",
   "execution_count": null,
   "id": "81ca7b7c-50c2-4695-b511-505b543d2392",
   "metadata": {},
   "outputs": [],
   "source": []
  },
  {
   "cell_type": "code",
   "execution_count": null,
   "id": "025b82e7-822e-439d-91b0-b309a2fc8482",
   "metadata": {},
   "outputs": [],
   "source": []
  },
  {
   "cell_type": "code",
   "execution_count": null,
   "id": "fb32e16b-b6c4-4287-8c26-b2d790696409",
   "metadata": {},
   "outputs": [],
   "source": []
  },
  {
   "cell_type": "code",
   "execution_count": null,
   "id": "1bf928b1-7699-4872-af98-09554211f782",
   "metadata": {},
   "outputs": [],
   "source": []
  },
  {
   "cell_type": "code",
   "execution_count": null,
   "id": "3936d8cd-30b9-4509-a286-d4a40db3953a",
   "metadata": {},
   "outputs": [],
   "source": []
  },
  {
   "cell_type": "code",
   "execution_count": null,
   "id": "4b97bc2b-48c3-47ae-a679-1466c28b8d14",
   "metadata": {},
   "outputs": [],
   "source": []
  }
 ],
 "metadata": {
  "kernelspec": {
   "display_name": "Python 3 (ipykernel)",
   "language": "python",
   "name": "python3"
  },
  "language_info": {
   "codemirror_mode": {
    "name": "ipython",
    "version": 3
   },
   "file_extension": ".py",
   "mimetype": "text/x-python",
   "name": "python",
   "nbconvert_exporter": "python",
   "pygments_lexer": "ipython3",
   "version": "3.11.7"
  }
 },
 "nbformat": 4,
 "nbformat_minor": 5
}
